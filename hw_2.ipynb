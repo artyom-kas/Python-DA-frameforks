{
 "cells": [
  {
   "cell_type": "markdown",
   "metadata": {},
   "source": [
    "## Введение в анализ данных, ИАД-2\n",
    "\n",
    "## НИУ ВШЭ, 2019-20 учебный год"
   ]
  },
  {
   "cell_type": "markdown",
   "metadata": {},
   "source": [
    "### Домашнее задание №2"
   ]
  },
  {
   "cell_type": "markdown",
   "metadata": {},
   "source": [
    "Задание выполнил(а): _Соснин Артём_"
   ]
  },
  {
   "cell_type": "markdown",
   "metadata": {},
   "source": [
    "### Общая информация"
   ]
  },
  {
   "cell_type": "markdown",
   "metadata": {},
   "source": [
    "__Дата выдачи:__ 04.03.2019\n",
    "\n",
    "__Дедлайн:__ 23:59 17.03.2019"
   ]
  },
  {
   "cell_type": "markdown",
   "metadata": {},
   "source": [
    "### Оценивание и штрафы\n",
    "\n",
    "Оценка за ДЗ вычисляется по следующей формуле:\n",
    "\n",
    "$$\n",
    "\\text{points} \\times 10 / \\text{max points},\n",
    "$$\n",
    "\n",
    "где points — количество баллов, которое вы набрали, max_points - максимальное число баллов за задание. Бонусные задания отмечены звездочками (*)\n",
    "\n",
    "За сдачу задания позже срока на итоговую оценку за задание накладывается штраф в размере 1 балл в день, но получить отрицательную оценку нельзя."
   ]
  },
  {
   "cell_type": "markdown",
   "metadata": {},
   "source": [
    "__Внимание!__ Домашнее задание выполняется самостоятельно. «Похожие» решения считаются плагиатом и все задействованные студенты (в том числе те, у кого списали) не могут получить за него больше 0 баллов."
   ]
  },
  {
   "cell_type": "markdown",
   "metadata": {},
   "source": [
    "### Формат сдачи"
   ]
  },
  {
   "cell_type": "markdown",
   "metadata": {},
   "source": [
    "Загрузка файлов с решениями происходит в системе [Anytask](https://anytask.org/).\n"
   ]
  },
  {
   "cell_type": "markdown",
   "metadata": {},
   "source": [
    "# kNN своими руками (4)\n",
    "\n",
    "Реализуйте взвешенный алгоритм kNN для регрессии. Пусть нам нужно вычислить значение $y$ для некоторого $x$ при известных данных $\\left(x_1, y_1\\right), \\ldots, \\left(x_\\ell, y_\\ell\\right)$. Предсказанием вашего регрессора будет являться\n",
    "\n",
    "$$\n",
    "\\hat{y} = \\frac{\\sum\\limits_{i=1}^kw_iy_{(i)}}{\\sum\\limits_{i=1}^kw_i},\n",
    "$$\n",
    "где $\\left(x_{(1)}, y_{(1)}\\right), \\ldots, \\left(x_{(k)}, y_{(k)}\\right)$ - ближайшие $k$ объектов к $x$ по некоторой метрике $d(\\cdot, \\cdot)$, а $w_i = \\frac{1}{d\\left(x, x_{(i)}\\right)}$. Ваш алгоритм должен уметь работать с двумя метриками:\n",
    "\n",
    "$$\n",
    "d\\left(x_{(i)}, x\\right) = \\|x_{(i)} - x\\|_2 = \\sqrt{\\sum\\limits_{j=1}^n\\left(x_{(i)}^j - x^j\\right)^2}\\qquad\\text{(евклидова)}\n",
    "$$\n",
    "$$\n",
    "d\\left(x_{(i)}, x\\right) = \\|x_{(i)} - x\\|_1 = \\sum\\limits_{j=1}^n\\left|x_{(i)}^j - x^j\\right|\\qquad\\text{(манхэттена)}\n",
    "$$\n",
    "\n",
    "Сверьте для нескольких комбинаций различных параметров свой результат на искусственной выборке с результатом соответствующего алгоритма из `sklearn` по метрике качества MSE."
   ]
  },
  {
   "cell_type": "code",
   "execution_count": 12,
   "metadata": {},
   "outputs": [],
   "source": [
    "import numpy as np\n",
    "from scipy.spatial import distance\n",
    "from sklearn.neighbors import KNeighborsRegressor\n",
    "from sklearn.metrics import mean_squared_error\n",
    "import matplotlib.pyplot as plt\n",
    "from sklearn.linear_model import LinearRegression as LR, Lasso, Ridge"
   ]
  },
  {
   "cell_type": "code",
   "execution_count": 77,
   "metadata": {},
   "outputs": [],
   "source": [
    "class KNN:\n",
    "    def __init__(self, metric='euclid', k=5):\n",
    "        \"\"\"\n",
    "        PARAMETERS:\n",
    "        metric ('euclid' or 'manhattan')\n",
    "        k - number of nearest neighbors\n",
    "        \"\"\"\n",
    "        \n",
    "        self.metric = metric\n",
    "        self.k = k\n",
    "        self.knn = None\n",
    "        self.X_train = None\n",
    "        self.y_train = None\n",
    "        \n",
    "    def fit(self, X_train, y_train):\n",
    "        \"\"\"\n",
    "        INPUT:\n",
    "        X_train - np.array of shape (l, d)\n",
    "        y_train - np.array of shape (l,)\n",
    "        \"\"\"\n",
    "\n",
    "        self.y_train = y_train\n",
    "        self.X_train = X_train\n",
    "        \n",
    "        return self\n",
    "        \n",
    "    def predict(self, X_test):\n",
    "        \"\"\"\n",
    "        INPUT:\n",
    "        X_test - np.array of shape (m, d)\n",
    "        \n",
    "        OUTPUT:\n",
    "        y_pred - np.array of shape (m,)\n",
    "        \"\"\"\n",
    "        \n",
    "        predictions = np.zeros(len(X_test))\n",
    "        dists = distance.cdist(self.X_train, X_test, metric=self.metric)\n",
    "        func = np.vectorize(lambda x : 1/x)\n",
    "        weights = func(dists)\n",
    "        k_nearest = np.argsort(weights, axis=0)[-self.k:,:].T\n",
    "        for neighbours in range(len(k_nearest)):\n",
    "            numerator = 0\n",
    "            denominator = 0\n",
    "            for idx in k_nearest[neighbours]:\n",
    "                numerator += dists[idx][neighbours] * self.y_train[idx]\n",
    "                denominator += dists[idx][neighbours]\n",
    "            predictions[neighbours] = numerator/denominator\n",
    "        return predictions"
   ]
  },
  {
   "cell_type": "code",
   "execution_count": 16,
   "metadata": {},
   "outputs": [],
   "source": [
    "np.random.seed(17032019)\n",
    "X_train = np.random.randn(1000, 50)\n",
    "y_train = np.random.randn(1000,)\n",
    "X_test = np.random.randn(500, 50)\n",
    "y_test = np.random.randn(500,)"
   ]
  },
  {
   "cell_type": "code",
   "execution_count": 89,
   "metadata": {},
   "outputs": [],
   "source": [
    "knn1 = KNN(k = 10)\n",
    "knn1.fit(X_train, y_train)\n",
    "y_pred1 = knn1.predict(X_test)"
   ]
  },
  {
   "cell_type": "code",
   "execution_count": 90,
   "metadata": {},
   "outputs": [],
   "source": [
    "knn2 = KNeighborsRegressor(n_neighbors=10)\n",
    "knn2.fit(X_train, y_train)\n",
    "y_pred2 = knn2.predict(X_test)"
   ]
  },
  {
   "cell_type": "code",
   "execution_count": 91,
   "metadata": {},
   "outputs": [
    {
     "name": "stdout",
     "output_type": "stream",
     "text": [
      "MSE для KNN своими руками:  1.0762400801615037\n",
      "MSE для KNN в sclearn:  1.0756506817802374\n"
     ]
    }
   ],
   "source": [
    "print('MSE для KNN своими руками: ', mean_squared_error(y_test ,y_pred1))\n",
    "print('MSE для KNN в sclearn: ', mean_squared_error(y_test ,y_pred2))"
   ]
  },
  {
   "cell_type": "markdown",
   "metadata": {},
   "source": [
    "# Линейная регрессия своими руками (4)\n",
    "\n",
    "Реализуйте линейную регрессию с градиентным спуском для [функции потерь Хьюбера](https://en.wikipedia.org/wiki/Huber_loss):\n",
    "\n",
    "$$\n",
    "L_\\delta\\left(y, \\hat{y}\\right) =\n",
    "\\begin{cases}\n",
    "\\frac{1}{2}\\left(y - \\hat{y}\\right)^2, \\qquad &|y - \\hat{y}| \\leq \\delta\\\\\n",
    "\\delta\\left|y - \\hat{y}\\right| - \\frac{1}{2}\\delta^2,\\qquad & \\text{otherwise}\n",
    "\\end{cases}\n",
    "$$\n",
    "\n",
    "В таком случае общее значение функции потерь на всем датасете $(x_1, y_1), \\ldots, (x_\\ell, y_\\ell)$ будет равно\n",
    "\n",
    "$$\n",
    "L = \\frac{1}{\\ell}\\sum\\limits_{i=1}^\\ell L_\\delta\\left(y_i, \\hat{y}_i\\right)\n",
    "$$\n",
    "\n",
    "Проверьте работу вашего метода: выведите результаты его работы на той же искусственной выборке, что и в задаче выше (в качестве метрик качества используйте MSE и Huber loss). Постройте график зависимости значения функции потерь от итерации градиентного спуска.\n",
    "\n",
    "*Вы можете опустить единичный признак в модели и не добавлять его в данные. Для данной искусственной выборки это не актуально, потому что целевая переменная в этом случае является случайной величиной из стандартного нормального распределения со средним 0.*\n",
    "\n",
    "*Вектор весов в градиентном спуске можете инициализировать нулями.*"
   ]
  },
  {
   "cell_type": "code",
   "execution_count": 17,
   "metadata": {},
   "outputs": [],
   "source": [
    "def euclid_metric(X, Y):\n",
    "    return np.sqrt(np.sum((X-Y)**2))"
   ]
  },
  {
   "cell_type": "code",
   "execution_count": 35,
   "metadata": {},
   "outputs": [],
   "source": [
    "def calc_L(y_train, y_pred, delta, X_train):\n",
    "    return np.sum(np.where(abs(y_train - y_pred) <= delta, ((y_train - y_pred) ** 2) / 2, \n",
    "                                delta * abs((y_train - y_pred)) - \n",
    "                                (delta ** 2) / 2)) / len(X_train)"
   ]
  },
  {
   "cell_type": "code",
   "execution_count": 76,
   "metadata": {},
   "outputs": [],
   "source": [
    "class LinearRegressionHuber:\n",
    "    def __init__(self, delta=1.0, max_iter=1000, tol=1e-6, eta=1e-2):\n",
    "        \n",
    "        self.delta = delta\n",
    "        self.max_iter = max_iter\n",
    "        self.tol = tol\n",
    "        self.eta = eta\n",
    "        self.w = None\n",
    "        self.loss_history = None\n",
    "        self.grad = None\n",
    "        \n",
    "    def fit(self, X_train, y_train):\n",
    "        \n",
    "        self.grad = np.zeros_like(X_train)\n",
    "        self.w = np.zeros(len(X_train[0]))\n",
    "        y_pred = X_train.dot(self.w)\n",
    "        L = calc_L(y_train, y_pred, self.delta, X_train)\n",
    "        self.loss_history = [L]\n",
    "        old_w = self.w.copy()\n",
    "        matr = np.zeros_like(X_train)\n",
    "        for i in range(len(X_train)):  \n",
    "            if abs(y_train[i] - y_pred[i]) <= self.delta:\n",
    "                 matr[i] = (-1)*X_train[i]*(y_train[i] - y_pred[i])\n",
    "            else:\n",
    "                if y_train[i] - y_pred[i] < 0:\n",
    "                    matr[i] = self.delta*X_train[i]\n",
    "                else:\n",
    "                    matr[i] = -self.delta*X_train[i]\n",
    "        self.w = (-1)*self.eta * (np.sum(matr, axis=0) / len(X_train))\n",
    "        self.grad [0] = np.sum(matr, axis=0) / len(X_train)\n",
    "        L = calc_L(y_train, y_pred, self.delta, X_train)\n",
    "        y_pred = X_train.dot(self.w)\n",
    "        self.loss_history.append(L) \n",
    "        counter = 0\n",
    "        while euclid_metric(self.w, old_w) > self.tol and counter != self.max_iter-2: \n",
    "            counter += 1\n",
    "            old_w = self.w.copy()\n",
    "            matr = np.zeros_like(X_train)\n",
    "            for i in range(len(X_train)):\n",
    "                if abs(y_train[i] - y_pred[i]) <= self.delta:\n",
    "                    matr[i] = (-1)*X_train[i]*(y_train[i] - y_pred[i])  \n",
    "                else:\n",
    "                    if y_train[i] - y_pred[i] < 0:\n",
    "                        matr[i] = self.delta*X_train[i]\n",
    "                    else:\n",
    "                        matr[i] = -self.delta*X_train[i]\n",
    "            self.w = old_w - self.eta * (np.sum(matr, axis=0) / len(X_train))\n",
    "            self.grad[counter] = np.sum(matr, axis=0) / len(X_train) \n",
    "            L = calc_L(y_train, y_pred, self.delta, X_train)\n",
    "            y_pred = X_train.dot(self.w)\n",
    "            self.loss_history.append(L) \n",
    "            \n",
    "        return self.loss_history\n",
    "        \n",
    "    def predict(self, X_test):\n",
    "        \n",
    "        y_pred = X_test.dot(self.w)\n",
    "        \n",
    "        return y_pred\n",
    "    \n",
    "    def calc_gradient(self, X, y):\n",
    "        \n",
    "        grad = self.grad[self.max_iter//2]\n",
    "        \n",
    "        return grad\n",
    "    \n",
    "    def calc_loss(self, X, y):\n",
    "        \n",
    "        loss = np.array(self.loss_history).mean()\n",
    "        \n",
    "        return loss"
   ]
  },
  {
   "cell_type": "code",
   "execution_count": 68,
   "metadata": {},
   "outputs": [],
   "source": [
    "k = LinearRegressionHuber()\n",
    "Loss = k.fit(X_train, y_train)"
   ]
  },
  {
   "cell_type": "code",
   "execution_count": 75,
   "metadata": {},
   "outputs": [
    {
     "data": {
      "image/png": "[encoded data removed]",
      "text/plain": [
       "<Figure size 432x288 with 1 Axes>"
      ]
     },
     "metadata": {
      "needs_background": "light"
     },
     "output_type": "display_data"
    }
   ],
   "source": [
    "plt.plot(np.linspace(1, 1000, 1000), Loss)\n",
    "plt.xlim([1, 1000])\n",
    "plt.ylim([0.405, 0.425])\n",
    "plt.show()"
   ]
  },
  {
   "cell_type": "code",
   "execution_count": 77,
   "metadata": {},
   "outputs": [],
   "source": [
    "pred = LR().fit(X_train, y_train)\n",
    "y_pred3 = k.predict(X_test)\n",
    "y_pred4 = pred.predict(X_test)"
   ]
  },
  {
   "cell_type": "code",
   "execution_count": 79,
   "metadata": {},
   "outputs": [
    {
     "name": "stdout",
     "output_type": "stream",
     "text": [
      "MSE для LR своими руками:  1.0919500874768941\n",
      "MSE для LR в sclearn:  1.0882539618811702\n"
     ]
    }
   ],
   "source": [
    "print('MSE для LR своими руками: ', mean_squared_error(y_test ,y3_pred))\n",
    "print('MSE для LR в sclearn: ', mean_squared_error(y_test ,y4_pred))"
   ]
  },
  {
   "cell_type": "code",
   "execution_count": 29,
   "metadata": {},
   "outputs": [
    {
     "name": "stdout",
     "output_type": "stream",
     "text": [
      "Calc_loss:  0.44820206194528317\n"
     ]
    }
   ],
   "source": [
    "print('Calc_loss: ', k.calc_loss(X_train, y_train))"
   ]
  },
  {
   "cell_type": "code",
   "execution_count": 30,
   "metadata": {},
   "outputs": [
    {
     "name": "stdout",
     "output_type": "stream",
     "text": [
      "Grad: [-1.04372600e-03 -7.68346999e-04  1.20685826e-04  2.53619880e-04\n",
      " -1.28547571e-03 -1.00743912e-03  1.51932981e-05 -2.07574304e-04\n",
      " -1.85004980e-03  7.43381059e-04  2.65183035e-04  3.47228053e-03\n",
      "  9.88670024e-04  1.93563038e-04  1.67045684e-03 -8.23286604e-04\n",
      " -2.04204365e-03  1.10503290e-03 -1.84128161e-04  1.93667425e-04\n",
      " -2.39991769e-03  4.02876738e-04  1.05532003e-03 -1.24019299e-03\n",
      "  1.30454360e-03 -2.23752066e-05 -5.55721235e-04  7.47098830e-04\n",
      "  2.92661126e-04  1.92494738e-04  2.94676789e-04  1.42945726e-04\n",
      " -2.84767372e-04  6.03252248e-04  1.82991231e-03  1.13040990e-03\n",
      "  5.37049695e-04 -1.20690399e-03 -2.76294525e-04 -6.29036492e-04\n",
      " -1.86094443e-03  3.52424067e-04 -1.31345253e-03  1.00918709e-03\n",
      "  2.55335330e-04 -5.97143597e-04 -2.26223099e-04 -2.07235370e-03\n",
      "  4.46843190e-04  1.40222945e-03]\n"
     ]
    }
   ],
   "source": [
    "print('Градиент:', k.calc_gradient(X_train, y_train))"
   ]
  },
  {
   "cell_type": "markdown",
   "metadata": {},
   "source": [
    "# Практика"
   ]
  },
  {
   "cell_type": "markdown",
   "metadata": {},
   "source": [
    "Пожалуйста, при использовании различных функций из библиотек импортируйте все, что вам понадобилось в данной части, в следующем блоке:"
   ]
  },
  {
   "cell_type": "code",
   "execution_count": 135,
   "metadata": {},
   "outputs": [],
   "source": [
    "import matplotlib.pyplot as plt\n",
    "import numpy as np\n",
    "import pandas as pd\n",
    "import seaborn as sns\n",
    "\n",
    "from sklearn.feature_selection import VarianceThreshold, SelectKBest, SelectFromModel, f_regression\n",
    "from sklearn.linear_model import LinearRegression, Lasso, Ridge\n",
    "from sklearn.metrics import mean_squared_error\n",
    "from sklearn.model_selection import train_test_split, GridSearchCV, cross_val_score\n",
    "from sklearn.neighbors import KNeighborsRegressor\n",
    "from sklearn.pipeline import Pipeline\n",
    "from sklearn.preprocessing import MinMaxScaler, StandardScaler, PolynomialFeatures\n",
    "\n",
    "%matplotlib inline"
   ]
  },
  {
   "cell_type": "markdown",
   "metadata": {},
   "source": [
    "В этом домашнем задании вы поработаете с данными из другого соревнования на Kaggle: https://www.kaggle.com/c/house-prices-advanced-regression-techniques. Задача - предсказание цены дома."
   ]
  },
  {
   "cell_type": "code",
   "execution_count": 136,
   "metadata": {},
   "outputs": [],
   "source": [
    "data = pd.read_csv('train.csv', header=0)"
   ]
  },
  {
   "cell_type": "code",
   "execution_count": 137,
   "metadata": {},
   "outputs": [
    {
     "data": {
      "text/plain": [
       "Index(['Id', 'MSSubClass', 'MSZoning', 'LotFrontage', 'LotArea', 'Street',\n",
       "       'Alley', 'LotShape', 'LandContour', 'Utilities', 'LotConfig',\n",
       "       'LandSlope', 'Neighborhood', 'Condition1', 'Condition2', 'BldgType',\n",
       "       'HouseStyle', 'OverallQual', 'OverallCond', 'YearBuilt', 'YearRemodAdd',\n",
       "       'RoofStyle', 'RoofMatl', 'Exterior1st', 'Exterior2nd', 'MasVnrType',\n",
       "       'MasVnrArea', 'ExterQual', 'ExterCond', 'Foundation', 'BsmtQual',\n",
       "       'BsmtCond', 'BsmtExposure', 'BsmtFinType1', 'BsmtFinSF1',\n",
       "       'BsmtFinType2', 'BsmtFinSF2', 'BsmtUnfSF', 'TotalBsmtSF', 'Heating',\n",
       "       'HeatingQC', 'CentralAir', 'Electrical', '1stFlrSF', '2ndFlrSF',\n",
       "       'LowQualFinSF', 'GrLivArea', 'BsmtFullBath', 'BsmtHalfBath', 'FullBath',\n",
       "       'HalfBath', 'BedroomAbvGr', 'KitchenAbvGr', 'KitchenQual',\n",
       "       'TotRmsAbvGrd', 'Functional', 'Fireplaces', 'FireplaceQu', 'GarageType',\n",
       "       'GarageYrBlt', 'GarageFinish', 'GarageCars', 'GarageArea', 'GarageQual',\n",
       "       'GarageCond', 'PavedDrive', 'WoodDeckSF', 'OpenPorchSF',\n",
       "       'EnclosedPorch', '3SsnPorch', 'ScreenPorch', 'PoolArea', 'PoolQC',\n",
       "       'Fence', 'MiscFeature', 'MiscVal', 'MoSold', 'YrSold', 'SaleType',\n",
       "       'SaleCondition', 'SalePrice'],\n",
       "      dtype='object')"
      ]
     },
     "execution_count": 137,
     "metadata": {},
     "output_type": "execute_result"
    }
   ],
   "source": [
    "data.columns"
   ]
  },
  {
   "cell_type": "code",
   "execution_count": 138,
   "metadata": {},
   "outputs": [
    {
     "data": {
      "text/html": [
       "<div>\n",
       "<style scoped>\n",
       "    .dataframe tbody tr th:only-of-type {\n",
       "        vertical-align: middle;\n",
       "    }\n",
       "\n",
       "    .dataframe tbody tr th {\n",
       "        vertical-align: top;\n",
       "    }\n",
       "\n",
       "    .dataframe thead th {\n",
       "        text-align: right;\n",
       "    }\n",
       "</style>\n",
       "<table border=\"1\" class=\"dataframe\">\n",
       "  <thead>\n",
       "    <tr style=\"text-align: right;\">\n",
       "      <th></th>\n",
       "      <th>Id</th>\n",
       "      <th>MSSubClass</th>\n",
       "      <th>MSZoning</th>\n",
       "      <th>LotFrontage</th>\n",
       "      <th>LotArea</th>\n",
       "      <th>Street</th>\n",
       "      <th>Alley</th>\n",
       "      <th>LotShape</th>\n",
       "      <th>LandContour</th>\n",
       "      <th>Utilities</th>\n",
       "      <th>...</th>\n",
       "      <th>PoolArea</th>\n",
       "      <th>PoolQC</th>\n",
       "      <th>Fence</th>\n",
       "      <th>MiscFeature</th>\n",
       "      <th>MiscVal</th>\n",
       "      <th>MoSold</th>\n",
       "      <th>YrSold</th>\n",
       "      <th>SaleType</th>\n",
       "      <th>SaleCondition</th>\n",
       "      <th>SalePrice</th>\n",
       "    </tr>\n",
       "  </thead>\n",
       "  <tbody>\n",
       "    <tr>\n",
       "      <th>0</th>\n",
       "      <td>1</td>\n",
       "      <td>60</td>\n",
       "      <td>RL</td>\n",
       "      <td>65.0</td>\n",
       "      <td>8450</td>\n",
       "      <td>Pave</td>\n",
       "      <td>NaN</td>\n",
       "      <td>Reg</td>\n",
       "      <td>Lvl</td>\n",
       "      <td>AllPub</td>\n",
       "      <td>...</td>\n",
       "      <td>0</td>\n",
       "      <td>NaN</td>\n",
       "      <td>NaN</td>\n",
       "      <td>NaN</td>\n",
       "      <td>0</td>\n",
       "      <td>2</td>\n",
       "      <td>2008</td>\n",
       "      <td>WD</td>\n",
       "      <td>Normal</td>\n",
       "      <td>208500</td>\n",
       "    </tr>\n",
       "    <tr>\n",
       "      <th>1</th>\n",
       "      <td>2</td>\n",
       "      <td>20</td>\n",
       "      <td>RL</td>\n",
       "      <td>80.0</td>\n",
       "      <td>9600</td>\n",
       "      <td>Pave</td>\n",
       "      <td>NaN</td>\n",
       "      <td>Reg</td>\n",
       "      <td>Lvl</td>\n",
       "      <td>AllPub</td>\n",
       "      <td>...</td>\n",
       "      <td>0</td>\n",
       "      <td>NaN</td>\n",
       "      <td>NaN</td>\n",
       "      <td>NaN</td>\n",
       "      <td>0</td>\n",
       "      <td>5</td>\n",
       "      <td>2007</td>\n",
       "      <td>WD</td>\n",
       "      <td>Normal</td>\n",
       "      <td>181500</td>\n",
       "    </tr>\n",
       "    <tr>\n",
       "      <th>2</th>\n",
       "      <td>3</td>\n",
       "      <td>60</td>\n",
       "      <td>RL</td>\n",
       "      <td>68.0</td>\n",
       "      <td>11250</td>\n",
       "      <td>Pave</td>\n",
       "      <td>NaN</td>\n",
       "      <td>IR1</td>\n",
       "      <td>Lvl</td>\n",
       "      <td>AllPub</td>\n",
       "      <td>...</td>\n",
       "      <td>0</td>\n",
       "      <td>NaN</td>\n",
       "      <td>NaN</td>\n",
       "      <td>NaN</td>\n",
       "      <td>0</td>\n",
       "      <td>9</td>\n",
       "      <td>2008</td>\n",
       "      <td>WD</td>\n",
       "      <td>Normal</td>\n",
       "      <td>223500</td>\n",
       "    </tr>\n",
       "    <tr>\n",
       "      <th>3</th>\n",
       "      <td>4</td>\n",
       "      <td>70</td>\n",
       "      <td>RL</td>\n",
       "      <td>60.0</td>\n",
       "      <td>9550</td>\n",
       "      <td>Pave</td>\n",
       "      <td>NaN</td>\n",
       "      <td>IR1</td>\n",
       "      <td>Lvl</td>\n",
       "      <td>AllPub</td>\n",
       "      <td>...</td>\n",
       "      <td>0</td>\n",
       "      <td>NaN</td>\n",
       "      <td>NaN</td>\n",
       "      <td>NaN</td>\n",
       "      <td>0</td>\n",
       "      <td>2</td>\n",
       "      <td>2006</td>\n",
       "      <td>WD</td>\n",
       "      <td>Abnorml</td>\n",
       "      <td>140000</td>\n",
       "    </tr>\n",
       "    <tr>\n",
       "      <th>4</th>\n",
       "      <td>5</td>\n",
       "      <td>60</td>\n",
       "      <td>RL</td>\n",
       "      <td>84.0</td>\n",
       "      <td>14260</td>\n",
       "      <td>Pave</td>\n",
       "      <td>NaN</td>\n",
       "      <td>IR1</td>\n",
       "      <td>Lvl</td>\n",
       "      <td>AllPub</td>\n",
       "      <td>...</td>\n",
       "      <td>0</td>\n",
       "      <td>NaN</td>\n",
       "      <td>NaN</td>\n",
       "      <td>NaN</td>\n",
       "      <td>0</td>\n",
       "      <td>12</td>\n",
       "      <td>2008</td>\n",
       "      <td>WD</td>\n",
       "      <td>Normal</td>\n",
       "      <td>250000</td>\n",
       "    </tr>\n",
       "  </tbody>\n",
       "</table>\n",
       "<p>5 rows × 81 columns</p>\n",
       "</div>"
      ],
      "text/plain": [
       "   Id  MSSubClass MSZoning  LotFrontage  LotArea Street Alley LotShape  \\\n",
       "0   1          60       RL         65.0     8450   Pave   NaN      Reg   \n",
       "1   2          20       RL         80.0     9600   Pave   NaN      Reg   \n",
       "2   3          60       RL         68.0    11250   Pave   NaN      IR1   \n",
       "3   4          70       RL         60.0     9550   Pave   NaN      IR1   \n",
       "4   5          60       RL         84.0    14260   Pave   NaN      IR1   \n",
       "\n",
       "  LandContour Utilities  ... PoolArea PoolQC Fence MiscFeature MiscVal MoSold  \\\n",
       "0         Lvl    AllPub  ...        0    NaN   NaN         NaN       0      2   \n",
       "1         Lvl    AllPub  ...        0    NaN   NaN         NaN       0      5   \n",
       "2         Lvl    AllPub  ...        0    NaN   NaN         NaN       0      9   \n",
       "3         Lvl    AllPub  ...        0    NaN   NaN         NaN       0      2   \n",
       "4         Lvl    AllPub  ...        0    NaN   NaN         NaN       0     12   \n",
       "\n",
       "  YrSold  SaleType  SaleCondition  SalePrice  \n",
       "0   2008        WD         Normal     208500  \n",
       "1   2007        WD         Normal     181500  \n",
       "2   2008        WD         Normal     223500  \n",
       "3   2006        WD        Abnorml     140000  \n",
       "4   2008        WD         Normal     250000  \n",
       "\n",
       "[5 rows x 81 columns]"
      ]
     },
     "execution_count": 138,
     "metadata": {},
     "output_type": "execute_result"
    }
   ],
   "source": [
    "data.head()"
   ]
  },
  {
   "cell_type": "code",
   "execution_count": 139,
   "metadata": {},
   "outputs": [],
   "source": [
    "data.drop('Id', axis=1, inplace=True)"
   ]
  },
  {
   "cell_type": "code",
   "execution_count": 140,
   "metadata": {},
   "outputs": [
    {
     "data": {
      "text/plain": [
       "(1460, 80)"
      ]
     },
     "execution_count": 140,
     "metadata": {},
     "output_type": "execute_result"
    }
   ],
   "source": [
    "data.shape"
   ]
  },
  {
   "cell_type": "markdown",
   "metadata": {},
   "source": [
    "## 1 (1)"
   ]
  },
  {
   "cell_type": "markdown",
   "metadata": {},
   "source": [
    "Есть ли в данных пропуски? Если да, то для каждого столбца, в котором они имеются, посчитайте их количество и их долю от общего числа значений. Что вы наблюдаете?"
   ]
  },
  {
   "cell_type": "code",
   "execution_count": 141,
   "metadata": {},
   "outputs": [
    {
     "data": {
      "text/plain": [
       "True"
      ]
     },
     "execution_count": 141,
     "metadata": {},
     "output_type": "execute_result"
    }
   ],
   "source": [
    "data.isnull().any().any()"
   ]
  },
  {
   "cell_type": "markdown",
   "metadata": {},
   "source": [
    "Количество пропусков по столбцам в порядке убывания:"
   ]
  },
  {
   "cell_type": "code",
   "execution_count": 142,
   "metadata": {},
   "outputs": [
    {
     "data": {
      "text/plain": [
       "PoolQC          1453\n",
       "MiscFeature     1406\n",
       "Alley           1369\n",
       "Fence           1179\n",
       "FireplaceQu      690\n",
       "LotFrontage      259\n",
       "GarageType        81\n",
       "GarageCond        81\n",
       "GarageFinish      81\n",
       "GarageQual        81\n",
       "GarageYrBlt       81\n",
       "BsmtFinType2      38\n",
       "BsmtExposure      38\n",
       "BsmtQual          37\n",
       "BsmtCond          37\n",
       "BsmtFinType1      37\n",
       "MasVnrArea         8\n",
       "MasVnrType         8\n",
       "Electrical         1\n",
       "RoofMatl           0\n",
       "dtype: int64"
      ]
     },
     "execution_count": 142,
     "metadata": {},
     "output_type": "execute_result"
    }
   ],
   "source": [
    "mis_val = data.isnull().sum().sort_values(ascending = False)\n",
    "mis_val.head(20)"
   ]
  },
  {
   "cell_type": "markdown",
   "metadata": {},
   "source": [
    "Доля пропусков от общего числа значений:"
   ]
  },
  {
   "cell_type": "code",
   "execution_count": 143,
   "metadata": {},
   "outputs": [
    {
     "data": {
      "text/plain": [
       "PoolQC          99.520548\n",
       "MiscFeature     96.301370\n",
       "Alley           93.767123\n",
       "Fence           80.753425\n",
       "FireplaceQu     47.260274\n",
       "LotFrontage     17.739726\n",
       "GarageType       5.547945\n",
       "GarageCond       5.547945\n",
       "GarageFinish     5.547945\n",
       "GarageQual       5.547945\n",
       "GarageYrBlt      5.547945\n",
       "BsmtFinType2     2.602740\n",
       "BsmtExposure     2.602740\n",
       "BsmtQual         2.534247\n",
       "BsmtCond         2.534247\n",
       "BsmtFinType1     2.534247\n",
       "MasVnrArea       0.547945\n",
       "MasVnrType       0.547945\n",
       "Electrical       0.068493\n",
       "RoofMatl         0.000000\n",
       "dtype: float64"
      ]
     },
     "execution_count": 143,
     "metadata": {},
     "output_type": "execute_result"
    }
   ],
   "source": [
    "(mis_val / len(data) * 100).head(20)"
   ]
  },
  {
   "cell_type": "markdown",
   "metadata": {},
   "source": [
    "В некотрых столбцах почти все данные пропущены, например в: PoolQC, MiscFeature, Alley и Fence"
   ]
  },
  {
   "cell_type": "markdown",
   "metadata": {},
   "source": [
    "## 2 (1)"
   ]
  },
  {
   "cell_type": "markdown",
   "metadata": {},
   "source": [
    "Избавьтесь от пропусков. Для каждого из примененных методов обоснуйте свое решение. **Проверьте, что вы действительно избавились от пропусков.**\n",
    "\n",
    "*Напоминание. В зависимости от типа столбца, можно заполнить пропуски, например, средним арифметическим, медианой, модой, можно какими-то отдельными значениями. А можно такие столбцы вообще удалить.*"
   ]
  },
  {
   "cell_type": "markdown",
   "metadata": {},
   "source": [
    "Удалим столбцы с очень большим количеством пропусков, это - PoolQC, MiscFeature, Alley и Fence."
   ]
  },
  {
   "cell_type": "code",
   "execution_count": 144,
   "metadata": {},
   "outputs": [],
   "source": [
    "data = data.drop(['PoolQC','MiscFeature','Alley','Fence'], axis=1)"
   ]
  },
  {
   "cell_type": "code",
   "execution_count": 145,
   "metadata": {},
   "outputs": [
    {
     "data": {
      "text/plain": [
       "(1460, 76)"
      ]
     },
     "execution_count": 145,
     "metadata": {},
     "output_type": "execute_result"
    }
   ],
   "source": [
    "data.shape"
   ]
  },
  {
   "cell_type": "markdown",
   "metadata": {},
   "source": [
    "Удалим строки с большим количеством пропусков:"
   ]
  },
  {
   "cell_type": "code",
   "execution_count": 146,
   "metadata": {},
   "outputs": [
    {
     "data": {
      "text/plain": [
       "520     11\n",
       "705     11\n",
       "533     11\n",
       "1218    11\n",
       "1011    11\n",
       "39      11\n",
       "1179    10\n",
       "375      7\n",
       "1030     7\n",
       "392      7\n",
       "1407     7\n",
       "342      7\n",
       "307      7\n",
       "1143     7\n",
       "287      7\n",
       "1035     7\n",
       "1321     7\n",
       "1009     6\n",
       "736      6\n",
       "1234     6\n",
       "1232     6\n",
       "954      6\n",
       "241      6\n",
       "649      6\n",
       "646      6\n",
       "125      6\n",
       "921      6\n",
       "1219     6\n",
       "1323     6\n",
       "710      6\n",
       "        ..\n",
       "1130     0\n",
       "482      0\n",
       "481      0\n",
       "480      0\n",
       "478      0\n",
       "477      0\n",
       "476      0\n",
       "1133     0\n",
       "1115     0\n",
       "503      0\n",
       "504      0\n",
       "506      0\n",
       "527      0\n",
       "525      0\n",
       "524      0\n",
       "523      0\n",
       "522      0\n",
       "521      0\n",
       "1105     0\n",
       "519      0\n",
       "1106     0\n",
       "517      0\n",
       "1107     0\n",
       "515      0\n",
       "1109     0\n",
       "511      0\n",
       "510      0\n",
       "1111     0\n",
       "508      0\n",
       "1162     0\n",
       "Length: 1460, dtype: int64"
      ]
     },
     "execution_count": 146,
     "metadata": {},
     "output_type": "execute_result"
    }
   ],
   "source": [
    "data.isnull().sum(axis=1).sort_values(ascending = False)"
   ]
  },
  {
   "cell_type": "code",
   "execution_count": 147,
   "metadata": {},
   "outputs": [
    {
     "data": {
      "text/plain": [
       "Int64Index([   0,    5,    7,   10,   12,   14,   15,   16,   17,   18,\n",
       "            ...\n",
       "            1445, 1446, 1448, 1449, 1450, 1452, 1453, 1454, 1458, 1459],\n",
       "           dtype='int64', length=877)"
      ]
     },
     "execution_count": 147,
     "metadata": {},
     "output_type": "execute_result"
    }
   ],
   "source": [
    "data.index[data.isnull().any(axis=1)]"
   ]
  },
  {
   "cell_type": "code",
   "execution_count": 148,
   "metadata": {},
   "outputs": [
    {
     "data": {
      "text/plain": [
       "(1349, 76)"
      ]
     },
     "execution_count": 148,
     "metadata": {},
     "output_type": "execute_result"
    }
   ],
   "source": [
    "for row in data.index[data.isnull().any(axis=1)]:\n",
    "     if data.loc[row].isnull().sum() >= 5:\n",
    "             data.drop(row, 0, inplace=True)\n",
    "data.shape"
   ]
  },
  {
   "cell_type": "code",
   "execution_count": 149,
   "metadata": {},
   "outputs": [
    {
     "data": {
      "text/plain": [
       "FireplaceQu      596\n",
       "LotFrontage      246\n",
       "MasVnrType         8\n",
       "MasVnrArea         8\n",
       "BsmtFinType2       1\n",
       "Electrical         1\n",
       "BsmtExposure       1\n",
       "SalePrice          0\n",
       "ExterQual          0\n",
       "RoofMatl           0\n",
       "Exterior1st        0\n",
       "Exterior2nd        0\n",
       "BsmtQual           0\n",
       "ExterCond          0\n",
       "Foundation         0\n",
       "BsmtCond           0\n",
       "BsmtFinType1       0\n",
       "BsmtFinSF1         0\n",
       "BsmtFinSF2         0\n",
       "RoofStyle          0\n",
       "YearRemodAdd       0\n",
       "TotalBsmtSF        0\n",
       "YearBuilt          0\n",
       "MSZoning           0\n",
       "LotArea            0\n",
       "Street             0\n",
       "LotShape           0\n",
       "LandContour        0\n",
       "Utilities          0\n",
       "LotConfig          0\n",
       "                ... \n",
       "PavedDrive         0\n",
       "WoodDeckSF         0\n",
       "OpenPorchSF        0\n",
       "EnclosedPorch      0\n",
       "3SsnPorch          0\n",
       "ScreenPorch        0\n",
       "PoolArea           0\n",
       "MiscVal            0\n",
       "MoSold             0\n",
       "YrSold             0\n",
       "SaleType           0\n",
       "GarageFinish       0\n",
       "GarageYrBlt        0\n",
       "GarageType         0\n",
       "BsmtHalfBath       0\n",
       "CentralAir         0\n",
       "1stFlrSF           0\n",
       "2ndFlrSF           0\n",
       "LowQualFinSF       0\n",
       "GrLivArea          0\n",
       "BsmtFullBath       0\n",
       "FullBath           0\n",
       "Fireplaces         0\n",
       "HalfBath           0\n",
       "BedroomAbvGr       0\n",
       "KitchenAbvGr       0\n",
       "KitchenQual        0\n",
       "TotRmsAbvGrd       0\n",
       "Functional         0\n",
       "MSSubClass         0\n",
       "Length: 76, dtype: int64"
      ]
     },
     "execution_count": 149,
     "metadata": {},
     "output_type": "execute_result"
    }
   ],
   "source": [
    "data.isnull().sum().sort_values(ascending = False)"
   ]
  },
  {
   "cell_type": "markdown",
   "metadata": {},
   "source": [
    "FireplaceQu имеет NaN, если в доме нет камина, поэтому вместо пропусков впишем no."
   ]
  },
  {
   "cell_type": "code",
   "execution_count": 150,
   "metadata": {},
   "outputs": [],
   "source": [
    "data.loc[data['FireplaceQu'].isnull(), 'FireplaceQu'] = 'No'"
   ]
  },
  {
   "cell_type": "markdown",
   "metadata": {},
   "source": [
    "LotFrontage - это длина улицы, соедененная с домом. Поэтому в эти пропуски можем вписать среднее значение."
   ]
  },
  {
   "cell_type": "code",
   "execution_count": 151,
   "metadata": {},
   "outputs": [],
   "source": [
    "data.loc[data['LotFrontage'].isnull(), 'LotFrontage'] = round(data['LotFrontage'].mean())"
   ]
  },
  {
   "cell_type": "code",
   "execution_count": 152,
   "metadata": {},
   "outputs": [
    {
     "data": {
      "text/plain": [
       "MasVnrType      8\n",
       "MasVnrArea      8\n",
       "Electrical      1\n",
       "BsmtFinType2    1\n",
       "BsmtExposure    1\n",
       "SalePrice       0\n",
       "ExterCond       0\n",
       "dtype: int64"
      ]
     },
     "execution_count": 152,
     "metadata": {},
     "output_type": "execute_result"
    }
   ],
   "source": [
    "data.isnull().sum().sort_values(ascending = False).head(7)"
   ]
  },
  {
   "cell_type": "code",
   "execution_count": 153,
   "metadata": {},
   "outputs": [
    {
     "data": {
      "text/plain": [
       "MasVnrType\n",
       "BrkCmn      15\n",
       "BrkFace    434\n",
       "None       764\n",
       "Stone      128\n",
       "dtype: int64"
      ]
     },
     "execution_count": 153,
     "metadata": {},
     "output_type": "execute_result"
    }
   ],
   "source": [
    "data.groupby('MasVnrType').size()"
   ]
  },
  {
   "cell_type": "markdown",
   "metadata": {},
   "source": [
    "В пропуски для MasVnrType впишем None. А в MasVnrArea среднее значение для этого признака."
   ]
  },
  {
   "cell_type": "code",
   "execution_count": 154,
   "metadata": {},
   "outputs": [],
   "source": [
    "data.loc[data['MasVnrType'].isnull(), 'MasVnrType'] = 'None'\n",
    "data.loc[data['MasVnrArea'].isnull(), 'MasVnrArea'] = round(data['MasVnrArea'].mean())"
   ]
  },
  {
   "cell_type": "markdown",
   "metadata": {},
   "source": [
    "В остальные пропуски впишем самые популярные значения для соответствующих пропусков."
   ]
  },
  {
   "cell_type": "code",
   "execution_count": 155,
   "metadata": {},
   "outputs": [
    {
     "data": {
      "text/plain": [
       "Electrical\n",
       "FuseA      76\n",
       "FuseF      17\n",
       "FuseP       2\n",
       "Mix         1\n",
       "SBrkr    1252\n",
       "dtype: int64"
      ]
     },
     "execution_count": 155,
     "metadata": {},
     "output_type": "execute_result"
    }
   ],
   "source": [
    "data.groupby('Electrical').size()"
   ]
  },
  {
   "cell_type": "code",
   "execution_count": 156,
   "metadata": {},
   "outputs": [],
   "source": [
    "data.loc[data['Electrical'].isnull(), 'Electrical'] = 'SBrkr'"
   ]
  },
  {
   "cell_type": "code",
   "execution_count": 157,
   "metadata": {},
   "outputs": [
    {
     "data": {
      "text/plain": [
       "BsmtFinType2\n",
       "ALQ      19\n",
       "BLQ      32\n",
       "GLQ      12\n",
       "LwQ      46\n",
       "Rec      53\n",
       "Unf    1186\n",
       "dtype: int64"
      ]
     },
     "execution_count": 157,
     "metadata": {},
     "output_type": "execute_result"
    }
   ],
   "source": [
    "data.groupby('BsmtFinType2').size()"
   ]
  },
  {
   "cell_type": "code",
   "execution_count": 158,
   "metadata": {},
   "outputs": [],
   "source": [
    "data.loc[data['BsmtFinType2'].isnull(), 'BsmtFinType2'] = 'Unf'"
   ]
  },
  {
   "cell_type": "code",
   "execution_count": 159,
   "metadata": {},
   "outputs": [
    {
     "data": {
      "text/plain": [
       "BsmtExposure\n",
       "Av    213\n",
       "Gd    128\n",
       "Mn    111\n",
       "No    896\n",
       "dtype: int64"
      ]
     },
     "execution_count": 159,
     "metadata": {},
     "output_type": "execute_result"
    }
   ],
   "source": [
    "data.groupby('BsmtExposure').size()"
   ]
  },
  {
   "cell_type": "code",
   "execution_count": 160,
   "metadata": {},
   "outputs": [],
   "source": [
    "data.loc[data['BsmtExposure'].isnull(), 'BsmtExposure'] = 'No'"
   ]
  },
  {
   "cell_type": "code",
   "execution_count": 161,
   "metadata": {},
   "outputs": [
    {
     "data": {
      "text/plain": [
       "False"
      ]
     },
     "execution_count": 161,
     "metadata": {},
     "output_type": "execute_result"
    }
   ],
   "source": [
    "data.isnull().any().any()"
   ]
  },
  {
   "cell_type": "markdown",
   "metadata": {},
   "source": [
    "Пропуссков не осталось"
   ]
  },
  {
   "cell_type": "markdown",
   "metadata": {},
   "source": [
    "## 3 (1)"
   ]
  },
  {
   "cell_type": "markdown",
   "metadata": {},
   "source": [
    "Обработайте категориальные признаки. В их обнаружении вам может помочь синтаксис `pandas` (например, можно обратить внимание на типы столбцов), а также описание датасета и его исследование. Объясните выбор метода (one-hot-encoding, label encoding, ...)"
   ]
  },
  {
   "cell_type": "code",
   "execution_count": 162,
   "metadata": {
    "scrolled": false
   },
   "outputs": [
    {
     "data": {
      "text/plain": [
       "Index(['MSSubClass', 'MSZoning', 'LotFrontage', 'LotArea', 'Street',\n",
       "       'LotShape', 'LandContour', 'Utilities', 'LotConfig', 'LandSlope',\n",
       "       'Neighborhood', 'Condition1', 'Condition2', 'BldgType', 'HouseStyle',\n",
       "       'OverallQual', 'OverallCond', 'YearBuilt', 'YearRemodAdd', 'RoofStyle',\n",
       "       'RoofMatl', 'Exterior1st', 'Exterior2nd', 'MasVnrType', 'MasVnrArea',\n",
       "       'ExterQual', 'ExterCond', 'Foundation', 'BsmtQual', 'BsmtCond',\n",
       "       'BsmtExposure', 'BsmtFinType1', 'BsmtFinSF1', 'BsmtFinType2',\n",
       "       'BsmtFinSF2', 'BsmtUnfSF', 'TotalBsmtSF', 'Heating', 'HeatingQC',\n",
       "       'CentralAir', 'Electrical', '1stFlrSF', '2ndFlrSF', 'LowQualFinSF',\n",
       "       'GrLivArea', 'BsmtFullBath', 'BsmtHalfBath', 'FullBath', 'HalfBath',\n",
       "       'BedroomAbvGr', 'KitchenAbvGr', 'KitchenQual', 'TotRmsAbvGrd',\n",
       "       'Functional', 'Fireplaces', 'FireplaceQu', 'GarageType', 'GarageYrBlt',\n",
       "       'GarageFinish', 'GarageCars', 'GarageArea', 'GarageQual', 'GarageCond',\n",
       "       'PavedDrive', 'WoodDeckSF', 'OpenPorchSF', 'EnclosedPorch', '3SsnPorch',\n",
       "       'ScreenPorch', 'PoolArea', 'MiscVal', 'MoSold', 'YrSold', 'SaleType',\n",
       "       'SaleCondition', 'SalePrice'],\n",
       "      dtype='object')"
      ]
     },
     "execution_count": 162,
     "metadata": {},
     "output_type": "execute_result"
    }
   ],
   "source": [
    "data.columns"
   ]
  },
  {
   "cell_type": "markdown",
   "metadata": {},
   "source": [
    "one-hot-encoding более подходящий метод, потому что knn и линеная регрессия используют метрику между объектами. А при label encoding поучается, что мы из одного значения категориального признака вычитаем (прибавляем) другое."
   ]
  },
  {
   "cell_type": "code",
   "execution_count": 163,
   "metadata": {},
   "outputs": [
    {
     "data": {
      "text/html": [
       "<div>\n",
       "<style scoped>\n",
       "    .dataframe tbody tr th:only-of-type {\n",
       "        vertical-align: middle;\n",
       "    }\n",
       "\n",
       "    .dataframe tbody tr th {\n",
       "        vertical-align: top;\n",
       "    }\n",
       "\n",
       "    .dataframe thead th {\n",
       "        text-align: right;\n",
       "    }\n",
       "</style>\n",
       "<table border=\"1\" class=\"dataframe\">\n",
       "  <thead>\n",
       "    <tr style=\"text-align: right;\">\n",
       "      <th></th>\n",
       "      <th>MSSubClass</th>\n",
       "      <th>LotFrontage</th>\n",
       "      <th>LotArea</th>\n",
       "      <th>OverallQual</th>\n",
       "      <th>OverallCond</th>\n",
       "      <th>YearBuilt</th>\n",
       "      <th>YearRemodAdd</th>\n",
       "      <th>MasVnrArea</th>\n",
       "      <th>BsmtFinSF1</th>\n",
       "      <th>BsmtFinSF2</th>\n",
       "      <th>...</th>\n",
       "      <th>SaleType_ConLI</th>\n",
       "      <th>SaleType_ConLw</th>\n",
       "      <th>SaleType_New</th>\n",
       "      <th>SaleType_Oth</th>\n",
       "      <th>SaleType_WD</th>\n",
       "      <th>SaleCondition_AdjLand</th>\n",
       "      <th>SaleCondition_Alloca</th>\n",
       "      <th>SaleCondition_Family</th>\n",
       "      <th>SaleCondition_Normal</th>\n",
       "      <th>SaleCondition_Partial</th>\n",
       "    </tr>\n",
       "  </thead>\n",
       "  <tbody>\n",
       "    <tr>\n",
       "      <th>0</th>\n",
       "      <td>60</td>\n",
       "      <td>65.0</td>\n",
       "      <td>8450</td>\n",
       "      <td>7</td>\n",
       "      <td>5</td>\n",
       "      <td>2003</td>\n",
       "      <td>2003</td>\n",
       "      <td>196.0</td>\n",
       "      <td>706</td>\n",
       "      <td>0</td>\n",
       "      <td>...</td>\n",
       "      <td>0</td>\n",
       "      <td>0</td>\n",
       "      <td>0</td>\n",
       "      <td>0</td>\n",
       "      <td>1</td>\n",
       "      <td>0</td>\n",
       "      <td>0</td>\n",
       "      <td>0</td>\n",
       "      <td>1</td>\n",
       "      <td>0</td>\n",
       "    </tr>\n",
       "    <tr>\n",
       "      <th>1</th>\n",
       "      <td>20</td>\n",
       "      <td>80.0</td>\n",
       "      <td>9600</td>\n",
       "      <td>6</td>\n",
       "      <td>8</td>\n",
       "      <td>1976</td>\n",
       "      <td>1976</td>\n",
       "      <td>0.0</td>\n",
       "      <td>978</td>\n",
       "      <td>0</td>\n",
       "      <td>...</td>\n",
       "      <td>0</td>\n",
       "      <td>0</td>\n",
       "      <td>0</td>\n",
       "      <td>0</td>\n",
       "      <td>1</td>\n",
       "      <td>0</td>\n",
       "      <td>0</td>\n",
       "      <td>0</td>\n",
       "      <td>1</td>\n",
       "      <td>0</td>\n",
       "    </tr>\n",
       "    <tr>\n",
       "      <th>2</th>\n",
       "      <td>60</td>\n",
       "      <td>68.0</td>\n",
       "      <td>11250</td>\n",
       "      <td>7</td>\n",
       "      <td>5</td>\n",
       "      <td>2001</td>\n",
       "      <td>2002</td>\n",
       "      <td>162.0</td>\n",
       "      <td>486</td>\n",
       "      <td>0</td>\n",
       "      <td>...</td>\n",
       "      <td>0</td>\n",
       "      <td>0</td>\n",
       "      <td>0</td>\n",
       "      <td>0</td>\n",
       "      <td>1</td>\n",
       "      <td>0</td>\n",
       "      <td>0</td>\n",
       "      <td>0</td>\n",
       "      <td>1</td>\n",
       "      <td>0</td>\n",
       "    </tr>\n",
       "    <tr>\n",
       "      <th>3</th>\n",
       "      <td>70</td>\n",
       "      <td>60.0</td>\n",
       "      <td>9550</td>\n",
       "      <td>7</td>\n",
       "      <td>5</td>\n",
       "      <td>1915</td>\n",
       "      <td>1970</td>\n",
       "      <td>0.0</td>\n",
       "      <td>216</td>\n",
       "      <td>0</td>\n",
       "      <td>...</td>\n",
       "      <td>0</td>\n",
       "      <td>0</td>\n",
       "      <td>0</td>\n",
       "      <td>0</td>\n",
       "      <td>1</td>\n",
       "      <td>0</td>\n",
       "      <td>0</td>\n",
       "      <td>0</td>\n",
       "      <td>0</td>\n",
       "      <td>0</td>\n",
       "    </tr>\n",
       "    <tr>\n",
       "      <th>4</th>\n",
       "      <td>60</td>\n",
       "      <td>84.0</td>\n",
       "      <td>14260</td>\n",
       "      <td>8</td>\n",
       "      <td>5</td>\n",
       "      <td>2000</td>\n",
       "      <td>2000</td>\n",
       "      <td>350.0</td>\n",
       "      <td>655</td>\n",
       "      <td>0</td>\n",
       "      <td>...</td>\n",
       "      <td>0</td>\n",
       "      <td>0</td>\n",
       "      <td>0</td>\n",
       "      <td>0</td>\n",
       "      <td>1</td>\n",
       "      <td>0</td>\n",
       "      <td>0</td>\n",
       "      <td>0</td>\n",
       "      <td>1</td>\n",
       "      <td>0</td>\n",
       "    </tr>\n",
       "  </tbody>\n",
       "</table>\n",
       "<p>5 rows × 233 columns</p>\n",
       "</div>"
      ],
      "text/plain": [
       "   MSSubClass  LotFrontage  LotArea  OverallQual  OverallCond  YearBuilt  \\\n",
       "0          60         65.0     8450            7            5       2003   \n",
       "1          20         80.0     9600            6            8       1976   \n",
       "2          60         68.0    11250            7            5       2001   \n",
       "3          70         60.0     9550            7            5       1915   \n",
       "4          60         84.0    14260            8            5       2000   \n",
       "\n",
       "   YearRemodAdd  MasVnrArea  BsmtFinSF1  BsmtFinSF2  ...  SaleType_ConLI  \\\n",
       "0          2003       196.0         706           0  ...               0   \n",
       "1          1976         0.0         978           0  ...               0   \n",
       "2          2002       162.0         486           0  ...               0   \n",
       "3          1970         0.0         216           0  ...               0   \n",
       "4          2000       350.0         655           0  ...               0   \n",
       "\n",
       "   SaleType_ConLw  SaleType_New  SaleType_Oth  SaleType_WD  \\\n",
       "0               0             0             0            1   \n",
       "1               0             0             0            1   \n",
       "2               0             0             0            1   \n",
       "3               0             0             0            1   \n",
       "4               0             0             0            1   \n",
       "\n",
       "   SaleCondition_AdjLand  SaleCondition_Alloca  SaleCondition_Family  \\\n",
       "0                      0                     0                     0   \n",
       "1                      0                     0                     0   \n",
       "2                      0                     0                     0   \n",
       "3                      0                     0                     0   \n",
       "4                      0                     0                     0   \n",
       "\n",
       "   SaleCondition_Normal  SaleCondition_Partial  \n",
       "0                     1                      0  \n",
       "1                     1                      0  \n",
       "2                     1                      0  \n",
       "3                     0                      0  \n",
       "4                     1                      0  \n",
       "\n",
       "[5 rows x 233 columns]"
      ]
     },
     "execution_count": 163,
     "metadata": {},
     "output_type": "execute_result"
    }
   ],
   "source": [
    "data = pd.get_dummies(data, columns=['MSZoning', 'Street',\n",
    "       'LotShape', 'LandContour', 'Utilities', 'LotConfig', 'LandSlope',\n",
    "       'Neighborhood', 'Condition1', 'Condition2', 'BldgType', 'HouseStyle', 'RoofStyle',\n",
    "       'RoofMatl', 'Exterior1st', 'Exterior2nd', 'MasVnrType',\n",
    "       'ExterQual', 'ExterCond', 'Foundation', 'BsmtQual', 'BsmtCond',\n",
    "       'BsmtExposure', 'BsmtFinType1', 'BsmtFinType2', 'Heating', 'HeatingQC',\n",
    "       'CentralAir', 'Electrical', 'KitchenQual',\n",
    "       'Functional', 'FireplaceQu', 'GarageType',\n",
    "       'GarageFinish', 'GarageQual', 'GarageCond',\n",
    "       'PavedDrive', 'SaleType',\n",
    "       'SaleCondition'], drop_first=True)\n",
    "data.head()"
   ]
  },
  {
   "cell_type": "markdown",
   "metadata": {},
   "source": [
    "## 4 (0.5)"
   ]
  },
  {
   "cell_type": "markdown",
   "metadata": {},
   "source": [
    "Вычислите и визуализируйте попарную корреляцию Пирсона между всеми признаками. Какие выводы можно сделать?\n",
    "\n",
    "*Для визуализации можно использовать `seaborn.heatmap()`.*"
   ]
  },
  {
   "cell_type": "code",
   "execution_count": 164,
   "metadata": {},
   "outputs": [
    {
     "data": {
      "text/html": [
       "<div>\n",
       "<style scoped>\n",
       "    .dataframe tbody tr th:only-of-type {\n",
       "        vertical-align: middle;\n",
       "    }\n",
       "\n",
       "    .dataframe tbody tr th {\n",
       "        vertical-align: top;\n",
       "    }\n",
       "\n",
       "    .dataframe thead th {\n",
       "        text-align: right;\n",
       "    }\n",
       "</style>\n",
       "<table border=\"1\" class=\"dataframe\">\n",
       "  <thead>\n",
       "    <tr style=\"text-align: right;\">\n",
       "      <th></th>\n",
       "      <th>MSSubClass</th>\n",
       "      <th>LotFrontage</th>\n",
       "      <th>LotArea</th>\n",
       "      <th>OverallQual</th>\n",
       "      <th>OverallCond</th>\n",
       "      <th>YearBuilt</th>\n",
       "      <th>YearRemodAdd</th>\n",
       "      <th>MasVnrArea</th>\n",
       "      <th>BsmtFinSF1</th>\n",
       "      <th>BsmtFinSF2</th>\n",
       "      <th>...</th>\n",
       "      <th>GarageYrBlt</th>\n",
       "      <th>GarageCars</th>\n",
       "      <th>GarageArea</th>\n",
       "      <th>WoodDeckSF</th>\n",
       "      <th>OpenPorchSF</th>\n",
       "      <th>EnclosedPorch</th>\n",
       "      <th>3SsnPorch</th>\n",
       "      <th>ScreenPorch</th>\n",
       "      <th>PoolArea</th>\n",
       "      <th>MiscVal</th>\n",
       "    </tr>\n",
       "  </thead>\n",
       "  <tbody>\n",
       "    <tr>\n",
       "      <th>MSSubClass</th>\n",
       "      <td>1.000000</td>\n",
       "      <td>-0.360415</td>\n",
       "      <td>-0.135947</td>\n",
       "      <td>0.048354</td>\n",
       "      <td>-0.095558</td>\n",
       "      <td>0.055693</td>\n",
       "      <td>0.038028</td>\n",
       "      <td>0.030346</td>\n",
       "      <td>-0.070532</td>\n",
       "      <td>-0.080376</td>\n",
       "      <td>...</td>\n",
       "      <td>0.080948</td>\n",
       "      <td>0.004504</td>\n",
       "      <td>-0.072267</td>\n",
       "      <td>-0.009566</td>\n",
       "      <td>-0.000793</td>\n",
       "      <td>-0.024113</td>\n",
       "      <td>-0.041122</td>\n",
       "      <td>-0.022291</td>\n",
       "      <td>0.010273</td>\n",
       "      <td>-0.021341</td>\n",
       "    </tr>\n",
       "    <tr>\n",
       "      <th>LotFrontage</th>\n",
       "      <td>-0.360415</td>\n",
       "      <td>1.000000</td>\n",
       "      <td>0.301772</td>\n",
       "      <td>0.226723</td>\n",
       "      <td>-0.042488</td>\n",
       "      <td>0.103552</td>\n",
       "      <td>0.077748</td>\n",
       "      <td>0.176123</td>\n",
       "      <td>0.220801</td>\n",
       "      <td>0.041675</td>\n",
       "      <td>...</td>\n",
       "      <td>0.064286</td>\n",
       "      <td>0.269645</td>\n",
       "      <td>0.332923</td>\n",
       "      <td>0.071801</td>\n",
       "      <td>0.145913</td>\n",
       "      <td>0.014154</td>\n",
       "      <td>0.064564</td>\n",
       "      <td>0.031419</td>\n",
       "      <td>0.185375</td>\n",
       "      <td>0.000487</td>\n",
       "    </tr>\n",
       "    <tr>\n",
       "      <th>LotArea</th>\n",
       "      <td>-0.135947</td>\n",
       "      <td>0.301772</td>\n",
       "      <td>1.000000</td>\n",
       "      <td>0.089923</td>\n",
       "      <td>-0.002274</td>\n",
       "      <td>-0.006434</td>\n",
       "      <td>0.000296</td>\n",
       "      <td>0.096566</td>\n",
       "      <td>0.210654</td>\n",
       "      <td>0.109643</td>\n",
       "      <td>...</td>\n",
       "      <td>-0.026376</td>\n",
       "      <td>0.138179</td>\n",
       "      <td>0.167822</td>\n",
       "      <td>0.166350</td>\n",
       "      <td>0.083399</td>\n",
       "      <td>-0.013040</td>\n",
       "      <td>0.019162</td>\n",
       "      <td>0.038104</td>\n",
       "      <td>0.076822</td>\n",
       "      <td>0.040654</td>\n",
       "    </tr>\n",
       "    <tr>\n",
       "      <th>OverallQual</th>\n",
       "      <td>0.048354</td>\n",
       "      <td>0.226723</td>\n",
       "      <td>0.089923</td>\n",
       "      <td>1.000000</td>\n",
       "      <td>-0.163995</td>\n",
       "      <td>0.571045</td>\n",
       "      <td>0.549813</td>\n",
       "      <td>0.400306</td>\n",
       "      <td>0.201683</td>\n",
       "      <td>-0.084029</td>\n",
       "      <td>...</td>\n",
       "      <td>0.546382</td>\n",
       "      <td>0.593238</td>\n",
       "      <td>0.532690</td>\n",
       "      <td>0.215901</td>\n",
       "      <td>0.312894</td>\n",
       "      <td>-0.118158</td>\n",
       "      <td>0.025694</td>\n",
       "      <td>0.043490</td>\n",
       "      <td>0.063842</td>\n",
       "      <td>-0.029645</td>\n",
       "    </tr>\n",
       "    <tr>\n",
       "      <th>OverallCond</th>\n",
       "      <td>-0.095558</td>\n",
       "      <td>-0.042488</td>\n",
       "      <td>-0.002274</td>\n",
       "      <td>-0.163995</td>\n",
       "      <td>1.000000</td>\n",
       "      <td>-0.416762</td>\n",
       "      <td>0.032668</td>\n",
       "      <td>-0.140784</td>\n",
       "      <td>-0.064234</td>\n",
       "      <td>0.035839</td>\n",
       "      <td>...</td>\n",
       "      <td>-0.337302</td>\n",
       "      <td>-0.250740</td>\n",
       "      <td>-0.204892</td>\n",
       "      <td>-0.011229</td>\n",
       "      <td>-0.061393</td>\n",
       "      <td>0.066920</td>\n",
       "      <td>0.024326</td>\n",
       "      <td>0.055036</td>\n",
       "      <td>-0.003160</td>\n",
       "      <td>0.077500</td>\n",
       "    </tr>\n",
       "    <tr>\n",
       "      <th>YearBuilt</th>\n",
       "      <td>0.055693</td>\n",
       "      <td>0.103552</td>\n",
       "      <td>-0.006434</td>\n",
       "      <td>0.571045</td>\n",
       "      <td>-0.416762</td>\n",
       "      <td>1.000000</td>\n",
       "      <td>0.620046</td>\n",
       "      <td>0.298353</td>\n",
       "      <td>0.223278</td>\n",
       "      <td>-0.069946</td>\n",
       "      <td>...</td>\n",
       "      <td>0.826574</td>\n",
       "      <td>0.524512</td>\n",
       "      <td>0.443831</td>\n",
       "      <td>0.209509</td>\n",
       "      <td>0.219202</td>\n",
       "      <td>-0.386288</td>\n",
       "      <td>0.027974</td>\n",
       "      <td>-0.072587</td>\n",
       "      <td>0.000468</td>\n",
       "      <td>-0.033977</td>\n",
       "    </tr>\n",
       "    <tr>\n",
       "      <th>YearRemodAdd</th>\n",
       "      <td>0.038028</td>\n",
       "      <td>0.077748</td>\n",
       "      <td>0.000296</td>\n",
       "      <td>0.549813</td>\n",
       "      <td>0.032668</td>\n",
       "      <td>0.620046</td>\n",
       "      <td>1.000000</td>\n",
       "      <td>0.167950</td>\n",
       "      <td>0.099779</td>\n",
       "      <td>-0.084758</td>\n",
       "      <td>...</td>\n",
       "      <td>0.644184</td>\n",
       "      <td>0.460279</td>\n",
       "      <td>0.386590</td>\n",
       "      <td>0.198572</td>\n",
       "      <td>0.232987</td>\n",
       "      <td>-0.220494</td>\n",
       "      <td>0.038504</td>\n",
       "      <td>-0.054178</td>\n",
       "      <td>0.002871</td>\n",
       "      <td>-0.001931</td>\n",
       "    </tr>\n",
       "    <tr>\n",
       "      <th>MasVnrArea</th>\n",
       "      <td>0.030346</td>\n",
       "      <td>0.176123</td>\n",
       "      <td>0.096566</td>\n",
       "      <td>0.400306</td>\n",
       "      <td>-0.140784</td>\n",
       "      <td>0.298353</td>\n",
       "      <td>0.167950</td>\n",
       "      <td>1.000000</td>\n",
       "      <td>0.252740</td>\n",
       "      <td>-0.081002</td>\n",
       "      <td>...</td>\n",
       "      <td>0.248935</td>\n",
       "      <td>0.364081</td>\n",
       "      <td>0.367611</td>\n",
       "      <td>0.148162</td>\n",
       "      <td>0.127915</td>\n",
       "      <td>-0.111909</td>\n",
       "      <td>0.015162</td>\n",
       "      <td>0.052310</td>\n",
       "      <td>0.009299</td>\n",
       "      <td>-0.028995</td>\n",
       "    </tr>\n",
       "    <tr>\n",
       "      <th>BsmtFinSF1</th>\n",
       "      <td>-0.070532</td>\n",
       "      <td>0.220801</td>\n",
       "      <td>0.210654</td>\n",
       "      <td>0.201683</td>\n",
       "      <td>-0.064234</td>\n",
       "      <td>0.223278</td>\n",
       "      <td>0.099779</td>\n",
       "      <td>0.252740</td>\n",
       "      <td>1.000000</td>\n",
       "      <td>-0.062164</td>\n",
       "      <td>...</td>\n",
       "      <td>0.144899</td>\n",
       "      <td>0.200556</td>\n",
       "      <td>0.287357</td>\n",
       "      <td>0.184719</td>\n",
       "      <td>0.110703</td>\n",
       "      <td>-0.101767</td>\n",
       "      <td>0.026269</td>\n",
       "      <td>0.050673</td>\n",
       "      <td>0.141620</td>\n",
       "      <td>0.007552</td>\n",
       "    </tr>\n",
       "    <tr>\n",
       "      <th>BsmtFinSF2</th>\n",
       "      <td>-0.080376</td>\n",
       "      <td>0.041675</td>\n",
       "      <td>0.109643</td>\n",
       "      <td>-0.084029</td>\n",
       "      <td>0.035839</td>\n",
       "      <td>-0.069946</td>\n",
       "      <td>-0.084758</td>\n",
       "      <td>-0.081002</td>\n",
       "      <td>-0.062164</td>\n",
       "      <td>1.000000</td>\n",
       "      <td>...</td>\n",
       "      <td>-0.092121</td>\n",
       "      <td>-0.077209</td>\n",
       "      <td>-0.049638</td>\n",
       "      <td>0.059791</td>\n",
       "      <td>0.001485</td>\n",
       "      <td>0.044747</td>\n",
       "      <td>-0.031352</td>\n",
       "      <td>0.085674</td>\n",
       "      <td>0.041051</td>\n",
       "      <td>0.006252</td>\n",
       "    </tr>\n",
       "    <tr>\n",
       "      <th>BsmtUnfSF</th>\n",
       "      <td>-0.144281</td>\n",
       "      <td>0.104681</td>\n",
       "      <td>-0.012646</td>\n",
       "      <td>0.293295</td>\n",
       "      <td>-0.161325</td>\n",
       "      <td>0.148186</td>\n",
       "      <td>0.172133</td>\n",
       "      <td>0.106142</td>\n",
       "      <td>-0.547407</td>\n",
       "      <td>-0.227368</td>\n",
       "      <td>...</td>\n",
       "      <td>0.180793</td>\n",
       "      <td>0.243961</td>\n",
       "      <td>0.197322</td>\n",
       "      <td>-0.022866</td>\n",
       "      <td>0.119830</td>\n",
       "      <td>-0.002815</td>\n",
       "      <td>0.023328</td>\n",
       "      <td>-0.023565</td>\n",
       "      <td>-0.039284</td>\n",
       "      <td>-0.018662</td>\n",
       "    </tr>\n",
       "    <tr>\n",
       "      <th>TotalBsmtSF</th>\n",
       "      <td>-0.266309</td>\n",
       "      <td>0.376497</td>\n",
       "      <td>0.266749</td>\n",
       "      <td>0.506589</td>\n",
       "      <td>-0.230532</td>\n",
       "      <td>0.380796</td>\n",
       "      <td>0.262156</td>\n",
       "      <td>0.364219</td>\n",
       "      <td>0.507743</td>\n",
       "      <td>0.090923</td>\n",
       "      <td>...</td>\n",
       "      <td>0.319012</td>\n",
       "      <td>0.455157</td>\n",
       "      <td>0.513505</td>\n",
       "      <td>0.206569</td>\n",
       "      <td>0.253164</td>\n",
       "      <td>-0.098917</td>\n",
       "      <td>0.041771</td>\n",
       "      <td>0.066134</td>\n",
       "      <td>0.133098</td>\n",
       "      <td>-0.009033</td>\n",
       "    </tr>\n",
       "    <tr>\n",
       "      <th>1stFlrSF</th>\n",
       "      <td>-0.261439</td>\n",
       "      <td>0.410198</td>\n",
       "      <td>0.291771</td>\n",
       "      <td>0.481512</td>\n",
       "      <td>-0.149525</td>\n",
       "      <td>0.259604</td>\n",
       "      <td>0.238418</td>\n",
       "      <td>0.339273</td>\n",
       "      <td>0.454262</td>\n",
       "      <td>0.094589</td>\n",
       "      <td>...</td>\n",
       "      <td>0.235302</td>\n",
       "      <td>0.440230</td>\n",
       "      <td>0.499546</td>\n",
       "      <td>0.228583</td>\n",
       "      <td>0.226586</td>\n",
       "      <td>-0.048027</td>\n",
       "      <td>0.052345</td>\n",
       "      <td>0.081453</td>\n",
       "      <td>0.133539</td>\n",
       "      <td>-0.014374</td>\n",
       "    </tr>\n",
       "    <tr>\n",
       "      <th>2ndFlrSF</th>\n",
       "      <td>0.307025</td>\n",
       "      <td>0.066007</td>\n",
       "      <td>0.045928</td>\n",
       "      <td>0.276547</td>\n",
       "      <td>0.013108</td>\n",
       "      <td>0.008395</td>\n",
       "      <td>0.120753</td>\n",
       "      <td>0.168198</td>\n",
       "      <td>-0.155127</td>\n",
       "      <td>-0.110429</td>\n",
       "      <td>...</td>\n",
       "      <td>0.061072</td>\n",
       "      <td>0.184201</td>\n",
       "      <td>0.120890</td>\n",
       "      <td>0.083313</td>\n",
       "      <td>0.200470</td>\n",
       "      <td>0.056976</td>\n",
       "      <td>-0.024761</td>\n",
       "      <td>0.035316</td>\n",
       "      <td>0.082360</td>\n",
       "      <td>0.013641</td>\n",
       "    </tr>\n",
       "    <tr>\n",
       "      <th>LowQualFinSF</th>\n",
       "      <td>0.020084</td>\n",
       "      <td>0.009817</td>\n",
       "      <td>0.009601</td>\n",
       "      <td>-0.017168</td>\n",
       "      <td>0.042266</td>\n",
       "      <td>-0.160367</td>\n",
       "      <td>-0.064853</td>\n",
       "      <td>-0.061716</td>\n",
       "      <td>-0.051927</td>\n",
       "      <td>0.007080</td>\n",
       "      <td>...</td>\n",
       "      <td>-0.037853</td>\n",
       "      <td>-0.017973</td>\n",
       "      <td>0.013641</td>\n",
       "      <td>-0.008508</td>\n",
       "      <td>0.017805</td>\n",
       "      <td>0.049938</td>\n",
       "      <td>0.000041</td>\n",
       "      <td>0.045060</td>\n",
       "      <td>0.080481</td>\n",
       "      <td>-0.000107</td>\n",
       "    </tr>\n",
       "    <tr>\n",
       "      <th>GrLivArea</th>\n",
       "      <td>0.066374</td>\n",
       "      <td>0.363035</td>\n",
       "      <td>0.257563</td>\n",
       "      <td>0.592530</td>\n",
       "      <td>-0.097274</td>\n",
       "      <td>0.188489</td>\n",
       "      <td>0.275289</td>\n",
       "      <td>0.391046</td>\n",
       "      <td>0.203818</td>\n",
       "      <td>-0.022341</td>\n",
       "      <td>...</td>\n",
       "      <td>0.224515</td>\n",
       "      <td>0.483413</td>\n",
       "      <td>0.476552</td>\n",
       "      <td>0.240625</td>\n",
       "      <td>0.340424</td>\n",
       "      <td>0.016287</td>\n",
       "      <td>0.018123</td>\n",
       "      <td>0.094262</td>\n",
       "      <td>0.175775</td>\n",
       "      <td>0.000811</td>\n",
       "    </tr>\n",
       "    <tr>\n",
       "      <th>BsmtFullBath</th>\n",
       "      <td>-0.012598</td>\n",
       "      <td>0.103532</td>\n",
       "      <td>0.160753</td>\n",
       "      <td>0.087068</td>\n",
       "      <td>-0.073374</td>\n",
       "      <td>0.175421</td>\n",
       "      <td>0.099944</td>\n",
       "      <td>0.079571</td>\n",
       "      <td>0.640935</td>\n",
       "      <td>0.155305</td>\n",
       "      <td>...</td>\n",
       "      <td>0.116824</td>\n",
       "      <td>0.133704</td>\n",
       "      <td>0.189145</td>\n",
       "      <td>0.160417</td>\n",
       "      <td>0.075569</td>\n",
       "      <td>-0.044844</td>\n",
       "      <td>0.000111</td>\n",
       "      <td>0.016111</td>\n",
       "      <td>0.068723</td>\n",
       "      <td>-0.020880</td>\n",
       "    </tr>\n",
       "    <tr>\n",
       "      <th>BsmtHalfBath</th>\n",
       "      <td>0.000197</td>\n",
       "      <td>-0.000542</td>\n",
       "      <td>0.046054</td>\n",
       "      <td>-0.065926</td>\n",
       "      <td>0.120553</td>\n",
       "      <td>-0.056816</td>\n",
       "      <td>-0.025526</td>\n",
       "      <td>0.015685</td>\n",
       "      <td>0.056069</td>\n",
       "      <td>0.072659</td>\n",
       "      <td>...</td>\n",
       "      <td>-0.080931</td>\n",
       "      <td>-0.042781</td>\n",
       "      <td>-0.045574</td>\n",
       "      <td>0.039688</td>\n",
       "      <td>-0.035512</td>\n",
       "      <td>-0.002955</td>\n",
       "      <td>0.036532</td>\n",
       "      <td>0.030298</td>\n",
       "      <td>0.019918</td>\n",
       "      <td>-0.006511</td>\n",
       "    </tr>\n",
       "    <tr>\n",
       "      <th>FullBath</th>\n",
       "      <td>0.112494</td>\n",
       "      <td>0.173984</td>\n",
       "      <td>0.119467</td>\n",
       "      <td>0.577596</td>\n",
       "      <td>-0.216676</td>\n",
       "      <td>0.485807</td>\n",
       "      <td>0.459228</td>\n",
       "      <td>0.271121</td>\n",
       "      <td>0.047405</td>\n",
       "      <td>-0.089965</td>\n",
       "      <td>...</td>\n",
       "      <td>0.485794</td>\n",
       "      <td>0.511789</td>\n",
       "      <td>0.422959</td>\n",
       "      <td>0.186538</td>\n",
       "      <td>0.282089</td>\n",
       "      <td>-0.125632</td>\n",
       "      <td>0.039042</td>\n",
       "      <td>-0.015647</td>\n",
       "      <td>0.050077</td>\n",
       "      <td>-0.018933</td>\n",
       "    </tr>\n",
       "    <tr>\n",
       "      <th>HalfBath</th>\n",
       "      <td>0.199645</td>\n",
       "      <td>0.037823</td>\n",
       "      <td>0.004086</td>\n",
       "      <td>0.249682</td>\n",
       "      <td>-0.073151</td>\n",
       "      <td>0.230551</td>\n",
       "      <td>0.172464</td>\n",
       "      <td>0.191316</td>\n",
       "      <td>-0.025414</td>\n",
       "      <td>-0.041039</td>\n",
       "      <td>...</td>\n",
       "      <td>0.190583</td>\n",
       "      <td>0.196946</td>\n",
       "      <td>0.125749</td>\n",
       "      <td>0.086466</td>\n",
       "      <td>0.205180</td>\n",
       "      <td>-0.089791</td>\n",
       "      <td>-0.006984</td>\n",
       "      <td>0.063116</td>\n",
       "      <td>0.020118</td>\n",
       "      <td>0.003284</td>\n",
       "    </tr>\n",
       "    <tr>\n",
       "      <th>BedroomAbvGr</th>\n",
       "      <td>-0.067505</td>\n",
       "      <td>0.246623</td>\n",
       "      <td>0.122471</td>\n",
       "      <td>0.077386</td>\n",
       "      <td>0.021372</td>\n",
       "      <td>-0.082359</td>\n",
       "      <td>-0.076149</td>\n",
       "      <td>0.108338</td>\n",
       "      <td>-0.120712</td>\n",
       "      <td>-0.007600</td>\n",
       "      <td>...</td>\n",
       "      <td>-0.073017</td>\n",
       "      <td>0.117480</td>\n",
       "      <td>0.085708</td>\n",
       "      <td>0.050855</td>\n",
       "      <td>0.087683</td>\n",
       "      <td>0.046939</td>\n",
       "      <td>-0.027528</td>\n",
       "      <td>0.049283</td>\n",
       "      <td>0.077418</td>\n",
       "      <td>0.008298</td>\n",
       "    </tr>\n",
       "    <tr>\n",
       "      <th>KitchenAbvGr</th>\n",
       "      <td>0.232402</td>\n",
       "      <td>0.006694</td>\n",
       "      <td>-0.003650</td>\n",
       "      <td>-0.134452</td>\n",
       "      <td>-0.079134</td>\n",
       "      <td>-0.176938</td>\n",
       "      <td>-0.155218</td>\n",
       "      <td>-0.007293</td>\n",
       "      <td>-0.028638</td>\n",
       "      <td>-0.029078</td>\n",
       "      <td>...</td>\n",
       "      <td>-0.125606</td>\n",
       "      <td>0.047703</td>\n",
       "      <td>0.034057</td>\n",
       "      <td>-0.075531</td>\n",
       "      <td>-0.040398</td>\n",
       "      <td>0.049430</td>\n",
       "      <td>-0.020419</td>\n",
       "      <td>-0.041493</td>\n",
       "      <td>-0.012348</td>\n",
       "      <td>0.059596</td>\n",
       "    </tr>\n",
       "    <tr>\n",
       "      <th>TotRmsAbvGrd</th>\n",
       "      <td>0.012318</td>\n",
       "      <td>0.320981</td>\n",
       "      <td>0.187835</td>\n",
       "      <td>0.439003</td>\n",
       "      <td>-0.065939</td>\n",
       "      <td>0.097728</td>\n",
       "      <td>0.172543</td>\n",
       "      <td>0.288936</td>\n",
       "      <td>0.046252</td>\n",
       "      <td>-0.041634</td>\n",
       "      <td>...</td>\n",
       "      <td>0.147018</td>\n",
       "      <td>0.403150</td>\n",
       "      <td>0.366144</td>\n",
       "      <td>0.166727</td>\n",
       "      <td>0.245483</td>\n",
       "      <td>0.000157</td>\n",
       "      <td>-0.011103</td>\n",
       "      <td>0.057621</td>\n",
       "      <td>0.087969</td>\n",
       "      <td>0.025962</td>\n",
       "    </tr>\n",
       "    <tr>\n",
       "      <th>Fireplaces</th>\n",
       "      <td>-0.026748</td>\n",
       "      <td>0.231052</td>\n",
       "      <td>0.264857</td>\n",
       "      <td>0.374143</td>\n",
       "      <td>-0.035745</td>\n",
       "      <td>0.107912</td>\n",
       "      <td>0.087183</td>\n",
       "      <td>0.228891</td>\n",
       "      <td>0.247479</td>\n",
       "      <td>0.036215</td>\n",
       "      <td>...</td>\n",
       "      <td>0.038175</td>\n",
       "      <td>0.245389</td>\n",
       "      <td>0.202770</td>\n",
       "      <td>0.185543</td>\n",
       "      <td>0.170053</td>\n",
       "      <td>-0.016684</td>\n",
       "      <td>0.002529</td>\n",
       "      <td>0.176190</td>\n",
       "      <td>0.094650</td>\n",
       "      <td>0.005166</td>\n",
       "    </tr>\n",
       "    <tr>\n",
       "      <th>GarageYrBlt</th>\n",
       "      <td>0.080948</td>\n",
       "      <td>0.064286</td>\n",
       "      <td>-0.026376</td>\n",
       "      <td>0.546382</td>\n",
       "      <td>-0.337302</td>\n",
       "      <td>0.826574</td>\n",
       "      <td>0.644184</td>\n",
       "      <td>0.248935</td>\n",
       "      <td>0.144899</td>\n",
       "      <td>-0.092121</td>\n",
       "      <td>...</td>\n",
       "      <td>1.000000</td>\n",
       "      <td>0.590393</td>\n",
       "      <td>0.562954</td>\n",
       "      <td>0.221001</td>\n",
       "      <td>0.222988</td>\n",
       "      <td>-0.304208</td>\n",
       "      <td>0.026540</td>\n",
       "      <td>-0.079250</td>\n",
       "      <td>-0.015421</td>\n",
       "      <td>-0.031967</td>\n",
       "    </tr>\n",
       "    <tr>\n",
       "      <th>GarageCars</th>\n",
       "      <td>0.004504</td>\n",
       "      <td>0.269645</td>\n",
       "      <td>0.138179</td>\n",
       "      <td>0.593238</td>\n",
       "      <td>-0.250740</td>\n",
       "      <td>0.524512</td>\n",
       "      <td>0.460279</td>\n",
       "      <td>0.364081</td>\n",
       "      <td>0.200556</td>\n",
       "      <td>-0.077209</td>\n",
       "      <td>...</td>\n",
       "      <td>0.590393</td>\n",
       "      <td>1.000000</td>\n",
       "      <td>0.832628</td>\n",
       "      <td>0.207340</td>\n",
       "      <td>0.243647</td>\n",
       "      <td>-0.147938</td>\n",
       "      <td>0.029912</td>\n",
       "      <td>0.014585</td>\n",
       "      <td>0.013640</td>\n",
       "      <td>-0.048505</td>\n",
       "    </tr>\n",
       "    <tr>\n",
       "      <th>GarageArea</th>\n",
       "      <td>-0.072267</td>\n",
       "      <td>0.332923</td>\n",
       "      <td>0.167822</td>\n",
       "      <td>0.532690</td>\n",
       "      <td>-0.204892</td>\n",
       "      <td>0.443831</td>\n",
       "      <td>0.386590</td>\n",
       "      <td>0.367611</td>\n",
       "      <td>0.287357</td>\n",
       "      <td>-0.049638</td>\n",
       "      <td>...</td>\n",
       "      <td>0.562954</td>\n",
       "      <td>0.832628</td>\n",
       "      <td>1.000000</td>\n",
       "      <td>0.201848</td>\n",
       "      <td>0.270487</td>\n",
       "      <td>-0.111638</td>\n",
       "      <td>0.029237</td>\n",
       "      <td>0.017591</td>\n",
       "      <td>0.061664</td>\n",
       "      <td>-0.028737</td>\n",
       "    </tr>\n",
       "    <tr>\n",
       "      <th>WoodDeckSF</th>\n",
       "      <td>-0.009566</td>\n",
       "      <td>0.071801</td>\n",
       "      <td>0.166350</td>\n",
       "      <td>0.215901</td>\n",
       "      <td>-0.011229</td>\n",
       "      <td>0.209509</td>\n",
       "      <td>0.198572</td>\n",
       "      <td>0.148162</td>\n",
       "      <td>0.184719</td>\n",
       "      <td>0.059791</td>\n",
       "      <td>...</td>\n",
       "      <td>0.221001</td>\n",
       "      <td>0.207340</td>\n",
       "      <td>0.201848</td>\n",
       "      <td>1.000000</td>\n",
       "      <td>0.058422</td>\n",
       "      <td>-0.131463</td>\n",
       "      <td>-0.039286</td>\n",
       "      <td>-0.086993</td>\n",
       "      <td>0.072397</td>\n",
       "      <td>-0.009624</td>\n",
       "    </tr>\n",
       "    <tr>\n",
       "      <th>OpenPorchSF</th>\n",
       "      <td>-0.000793</td>\n",
       "      <td>0.145913</td>\n",
       "      <td>0.083399</td>\n",
       "      <td>0.312894</td>\n",
       "      <td>-0.061393</td>\n",
       "      <td>0.219202</td>\n",
       "      <td>0.232987</td>\n",
       "      <td>0.127915</td>\n",
       "      <td>0.110703</td>\n",
       "      <td>0.001485</td>\n",
       "      <td>...</td>\n",
       "      <td>0.222988</td>\n",
       "      <td>0.243647</td>\n",
       "      <td>0.270487</td>\n",
       "      <td>0.058422</td>\n",
       "      <td>1.000000</td>\n",
       "      <td>-0.105770</td>\n",
       "      <td>-0.005540</td>\n",
       "      <td>0.072468</td>\n",
       "      <td>0.062409</td>\n",
       "      <td>-0.015381</td>\n",
       "    </tr>\n",
       "    <tr>\n",
       "      <th>EnclosedPorch</th>\n",
       "      <td>-0.024113</td>\n",
       "      <td>0.014154</td>\n",
       "      <td>-0.013040</td>\n",
       "      <td>-0.118158</td>\n",
       "      <td>0.066920</td>\n",
       "      <td>-0.386288</td>\n",
       "      <td>-0.220494</td>\n",
       "      <td>-0.111909</td>\n",
       "      <td>-0.101767</td>\n",
       "      <td>0.044747</td>\n",
       "      <td>...</td>\n",
       "      <td>-0.304208</td>\n",
       "      <td>-0.147938</td>\n",
       "      <td>-0.111638</td>\n",
       "      <td>-0.131463</td>\n",
       "      <td>-0.105770</td>\n",
       "      <td>1.000000</td>\n",
       "      <td>-0.036526</td>\n",
       "      <td>-0.083579</td>\n",
       "      <td>0.057521</td>\n",
       "      <td>0.023774</td>\n",
       "    </tr>\n",
       "    <tr>\n",
       "      <th>3SsnPorch</th>\n",
       "      <td>-0.041122</td>\n",
       "      <td>0.064564</td>\n",
       "      <td>0.019162</td>\n",
       "      <td>0.025694</td>\n",
       "      <td>0.024326</td>\n",
       "      <td>0.027974</td>\n",
       "      <td>0.038504</td>\n",
       "      <td>0.015162</td>\n",
       "      <td>0.026269</td>\n",
       "      <td>-0.031352</td>\n",
       "      <td>...</td>\n",
       "      <td>0.026540</td>\n",
       "      <td>0.029912</td>\n",
       "      <td>0.029237</td>\n",
       "      <td>-0.039286</td>\n",
       "      <td>-0.005540</td>\n",
       "      <td>-0.036526</td>\n",
       "      <td>1.000000</td>\n",
       "      <td>-0.033326</td>\n",
       "      <td>-0.008448</td>\n",
       "      <td>0.000959</td>\n",
       "    </tr>\n",
       "    <tr>\n",
       "      <th>ScreenPorch</th>\n",
       "      <td>-0.022291</td>\n",
       "      <td>0.031419</td>\n",
       "      <td>0.038104</td>\n",
       "      <td>0.043490</td>\n",
       "      <td>0.055036</td>\n",
       "      <td>-0.072587</td>\n",
       "      <td>-0.054178</td>\n",
       "      <td>0.052310</td>\n",
       "      <td>0.050673</td>\n",
       "      <td>0.085674</td>\n",
       "      <td>...</td>\n",
       "      <td>-0.079250</td>\n",
       "      <td>0.014585</td>\n",
       "      <td>0.017591</td>\n",
       "      <td>-0.086993</td>\n",
       "      <td>0.072468</td>\n",
       "      <td>-0.083579</td>\n",
       "      <td>-0.033326</td>\n",
       "      <td>1.000000</td>\n",
       "      <td>0.049940</td>\n",
       "      <td>0.033190</td>\n",
       "    </tr>\n",
       "    <tr>\n",
       "      <th>PoolArea</th>\n",
       "      <td>0.010273</td>\n",
       "      <td>0.185375</td>\n",
       "      <td>0.076822</td>\n",
       "      <td>0.063842</td>\n",
       "      <td>-0.003160</td>\n",
       "      <td>0.000468</td>\n",
       "      <td>0.002871</td>\n",
       "      <td>0.009299</td>\n",
       "      <td>0.141620</td>\n",
       "      <td>0.041051</td>\n",
       "      <td>...</td>\n",
       "      <td>-0.015421</td>\n",
       "      <td>0.013640</td>\n",
       "      <td>0.061664</td>\n",
       "      <td>0.072397</td>\n",
       "      <td>0.062409</td>\n",
       "      <td>0.057521</td>\n",
       "      <td>-0.008448</td>\n",
       "      <td>0.049940</td>\n",
       "      <td>1.000000</td>\n",
       "      <td>0.030398</td>\n",
       "    </tr>\n",
       "    <tr>\n",
       "      <th>MiscVal</th>\n",
       "      <td>-0.021341</td>\n",
       "      <td>0.000487</td>\n",
       "      <td>0.040654</td>\n",
       "      <td>-0.029645</td>\n",
       "      <td>0.077500</td>\n",
       "      <td>-0.033977</td>\n",
       "      <td>-0.001931</td>\n",
       "      <td>-0.028995</td>\n",
       "      <td>0.007552</td>\n",
       "      <td>0.006252</td>\n",
       "      <td>...</td>\n",
       "      <td>-0.031967</td>\n",
       "      <td>-0.048505</td>\n",
       "      <td>-0.028737</td>\n",
       "      <td>-0.009624</td>\n",
       "      <td>-0.015381</td>\n",
       "      <td>0.023774</td>\n",
       "      <td>0.000959</td>\n",
       "      <td>0.033190</td>\n",
       "      <td>0.030398</td>\n",
       "      <td>1.000000</td>\n",
       "    </tr>\n",
       "  </tbody>\n",
       "</table>\n",
       "<p>34 rows × 34 columns</p>\n",
       "</div>"
      ],
      "text/plain": [
       "               MSSubClass  LotFrontage   LotArea  OverallQual  OverallCond  \\\n",
       "MSSubClass       1.000000    -0.360415 -0.135947     0.048354    -0.095558   \n",
       "LotFrontage     -0.360415     1.000000  0.301772     0.226723    -0.042488   \n",
       "LotArea         -0.135947     0.301772  1.000000     0.089923    -0.002274   \n",
       "OverallQual      0.048354     0.226723  0.089923     1.000000    -0.163995   \n",
       "OverallCond     -0.095558    -0.042488 -0.002274    -0.163995     1.000000   \n",
       "YearBuilt        0.055693     0.103552 -0.006434     0.571045    -0.416762   \n",
       "YearRemodAdd     0.038028     0.077748  0.000296     0.549813     0.032668   \n",
       "MasVnrArea       0.030346     0.176123  0.096566     0.400306    -0.140784   \n",
       "BsmtFinSF1      -0.070532     0.220801  0.210654     0.201683    -0.064234   \n",
       "BsmtFinSF2      -0.080376     0.041675  0.109643    -0.084029     0.035839   \n",
       "BsmtUnfSF       -0.144281     0.104681 -0.012646     0.293295    -0.161325   \n",
       "TotalBsmtSF     -0.266309     0.376497  0.266749     0.506589    -0.230532   \n",
       "1stFlrSF        -0.261439     0.410198  0.291771     0.481512    -0.149525   \n",
       "2ndFlrSF         0.307025     0.066007  0.045928     0.276547     0.013108   \n",
       "LowQualFinSF     0.020084     0.009817  0.009601    -0.017168     0.042266   \n",
       "GrLivArea        0.066374     0.363035  0.257563     0.592530    -0.097274   \n",
       "BsmtFullBath    -0.012598     0.103532  0.160753     0.087068    -0.073374   \n",
       "BsmtHalfBath     0.000197    -0.000542  0.046054    -0.065926     0.120553   \n",
       "FullBath         0.112494     0.173984  0.119467     0.577596    -0.216676   \n",
       "HalfBath         0.199645     0.037823  0.004086     0.249682    -0.073151   \n",
       "BedroomAbvGr    -0.067505     0.246623  0.122471     0.077386     0.021372   \n",
       "KitchenAbvGr     0.232402     0.006694 -0.003650    -0.134452    -0.079134   \n",
       "TotRmsAbvGrd     0.012318     0.320981  0.187835     0.439003    -0.065939   \n",
       "Fireplaces      -0.026748     0.231052  0.264857     0.374143    -0.035745   \n",
       "GarageYrBlt      0.080948     0.064286 -0.026376     0.546382    -0.337302   \n",
       "GarageCars       0.004504     0.269645  0.138179     0.593238    -0.250740   \n",
       "GarageArea      -0.072267     0.332923  0.167822     0.532690    -0.204892   \n",
       "WoodDeckSF      -0.009566     0.071801  0.166350     0.215901    -0.011229   \n",
       "OpenPorchSF     -0.000793     0.145913  0.083399     0.312894    -0.061393   \n",
       "EnclosedPorch   -0.024113     0.014154 -0.013040    -0.118158     0.066920   \n",
       "3SsnPorch       -0.041122     0.064564  0.019162     0.025694     0.024326   \n",
       "ScreenPorch     -0.022291     0.031419  0.038104     0.043490     0.055036   \n",
       "PoolArea         0.010273     0.185375  0.076822     0.063842    -0.003160   \n",
       "MiscVal         -0.021341     0.000487  0.040654    -0.029645     0.077500   \n",
       "\n",
       "               YearBuilt  YearRemodAdd  MasVnrArea  BsmtFinSF1  BsmtFinSF2  \\\n",
       "MSSubClass      0.055693      0.038028    0.030346   -0.070532   -0.080376   \n",
       "LotFrontage     0.103552      0.077748    0.176123    0.220801    0.041675   \n",
       "LotArea        -0.006434      0.000296    0.096566    0.210654    0.109643   \n",
       "OverallQual     0.571045      0.549813    0.400306    0.201683   -0.084029   \n",
       "OverallCond    -0.416762      0.032668   -0.140784   -0.064234    0.035839   \n",
       "YearBuilt       1.000000      0.620046    0.298353    0.223278   -0.069946   \n",
       "YearRemodAdd    0.620046      1.000000    0.167950    0.099779   -0.084758   \n",
       "MasVnrArea      0.298353      0.167950    1.000000    0.252740   -0.081002   \n",
       "BsmtFinSF1      0.223278      0.099779    0.252740    1.000000   -0.062164   \n",
       "BsmtFinSF2     -0.069946     -0.084758   -0.081002   -0.062164    1.000000   \n",
       "BsmtUnfSF       0.148186      0.172133    0.106142   -0.547407   -0.227368   \n",
       "TotalBsmtSF     0.380796      0.262156    0.364219    0.507743    0.090923   \n",
       "1stFlrSF        0.259604      0.238418    0.339273    0.454262    0.094589   \n",
       "2ndFlrSF        0.008395      0.120753    0.168198   -0.155127   -0.110429   \n",
       "LowQualFinSF   -0.160367     -0.064853   -0.061716   -0.051927    0.007080   \n",
       "GrLivArea       0.188489      0.275289    0.391046    0.203818   -0.022341   \n",
       "BsmtFullBath    0.175421      0.099944    0.079571    0.640935    0.155305   \n",
       "BsmtHalfBath   -0.056816     -0.025526    0.015685    0.056069    0.072659   \n",
       "FullBath        0.485807      0.459228    0.271121    0.047405   -0.089965   \n",
       "HalfBath        0.230551      0.172464    0.191316   -0.025414   -0.041039   \n",
       "BedroomAbvGr   -0.082359     -0.076149    0.108338   -0.120712   -0.007600   \n",
       "KitchenAbvGr   -0.176938     -0.155218   -0.007293   -0.028638   -0.029078   \n",
       "TotRmsAbvGrd    0.097728      0.172543    0.288936    0.046252   -0.041634   \n",
       "Fireplaces      0.107912      0.087183    0.228891    0.247479    0.036215   \n",
       "GarageYrBlt     0.826574      0.644184    0.248935    0.144899   -0.092121   \n",
       "GarageCars      0.524512      0.460279    0.364081    0.200556   -0.077209   \n",
       "GarageArea      0.443831      0.386590    0.367611    0.287357   -0.049638   \n",
       "WoodDeckSF      0.209509      0.198572    0.148162    0.184719    0.059791   \n",
       "OpenPorchSF     0.219202      0.232987    0.127915    0.110703    0.001485   \n",
       "EnclosedPorch  -0.386288     -0.220494   -0.111909   -0.101767    0.044747   \n",
       "3SsnPorch       0.027974      0.038504    0.015162    0.026269   -0.031352   \n",
       "ScreenPorch    -0.072587     -0.054178    0.052310    0.050673    0.085674   \n",
       "PoolArea        0.000468      0.002871    0.009299    0.141620    0.041051   \n",
       "MiscVal        -0.033977     -0.001931   -0.028995    0.007552    0.006252   \n",
       "\n",
       "               ...  GarageYrBlt  GarageCars  GarageArea  WoodDeckSF  \\\n",
       "MSSubClass     ...     0.080948    0.004504   -0.072267   -0.009566   \n",
       "LotFrontage    ...     0.064286    0.269645    0.332923    0.071801   \n",
       "LotArea        ...    -0.026376    0.138179    0.167822    0.166350   \n",
       "OverallQual    ...     0.546382    0.593238    0.532690    0.215901   \n",
       "OverallCond    ...    -0.337302   -0.250740   -0.204892   -0.011229   \n",
       "YearBuilt      ...     0.826574    0.524512    0.443831    0.209509   \n",
       "YearRemodAdd   ...     0.644184    0.460279    0.386590    0.198572   \n",
       "MasVnrArea     ...     0.248935    0.364081    0.367611    0.148162   \n",
       "BsmtFinSF1     ...     0.144899    0.200556    0.287357    0.184719   \n",
       "BsmtFinSF2     ...    -0.092121   -0.077209   -0.049638    0.059791   \n",
       "BsmtUnfSF      ...     0.180793    0.243961    0.197322   -0.022866   \n",
       "TotalBsmtSF    ...     0.319012    0.455157    0.513505    0.206569   \n",
       "1stFlrSF       ...     0.235302    0.440230    0.499546    0.228583   \n",
       "2ndFlrSF       ...     0.061072    0.184201    0.120890    0.083313   \n",
       "LowQualFinSF   ...    -0.037853   -0.017973    0.013641   -0.008508   \n",
       "GrLivArea      ...     0.224515    0.483413    0.476552    0.240625   \n",
       "BsmtFullBath   ...     0.116824    0.133704    0.189145    0.160417   \n",
       "BsmtHalfBath   ...    -0.080931   -0.042781   -0.045574    0.039688   \n",
       "FullBath       ...     0.485794    0.511789    0.422959    0.186538   \n",
       "HalfBath       ...     0.190583    0.196946    0.125749    0.086466   \n",
       "BedroomAbvGr   ...    -0.073017    0.117480    0.085708    0.050855   \n",
       "KitchenAbvGr   ...    -0.125606    0.047703    0.034057   -0.075531   \n",
       "TotRmsAbvGrd   ...     0.147018    0.403150    0.366144    0.166727   \n",
       "Fireplaces     ...     0.038175    0.245389    0.202770    0.185543   \n",
       "GarageYrBlt    ...     1.000000    0.590393    0.562954    0.221001   \n",
       "GarageCars     ...     0.590393    1.000000    0.832628    0.207340   \n",
       "GarageArea     ...     0.562954    0.832628    1.000000    0.201848   \n",
       "WoodDeckSF     ...     0.221001    0.207340    0.201848    1.000000   \n",
       "OpenPorchSF    ...     0.222988    0.243647    0.270487    0.058422   \n",
       "EnclosedPorch  ...    -0.304208   -0.147938   -0.111638   -0.131463   \n",
       "3SsnPorch      ...     0.026540    0.029912    0.029237   -0.039286   \n",
       "ScreenPorch    ...    -0.079250    0.014585    0.017591   -0.086993   \n",
       "PoolArea       ...    -0.015421    0.013640    0.061664    0.072397   \n",
       "MiscVal        ...    -0.031967   -0.048505   -0.028737   -0.009624   \n",
       "\n",
       "               OpenPorchSF  EnclosedPorch  3SsnPorch  ScreenPorch  PoolArea  \\\n",
       "MSSubClass       -0.000793      -0.024113  -0.041122    -0.022291  0.010273   \n",
       "LotFrontage       0.145913       0.014154   0.064564     0.031419  0.185375   \n",
       "LotArea           0.083399      -0.013040   0.019162     0.038104  0.076822   \n",
       "OverallQual       0.312894      -0.118158   0.025694     0.043490  0.063842   \n",
       "OverallCond      -0.061393       0.066920   0.024326     0.055036 -0.003160   \n",
       "YearBuilt         0.219202      -0.386288   0.027974    -0.072587  0.000468   \n",
       "YearRemodAdd      0.232987      -0.220494   0.038504    -0.054178  0.002871   \n",
       "MasVnrArea        0.127915      -0.111909   0.015162     0.052310  0.009299   \n",
       "BsmtFinSF1        0.110703      -0.101767   0.026269     0.050673  0.141620   \n",
       "BsmtFinSF2        0.001485       0.044747  -0.031352     0.085674  0.041051   \n",
       "BsmtUnfSF         0.119830      -0.002815   0.023328    -0.023565 -0.039284   \n",
       "TotalBsmtSF       0.253164      -0.098917   0.041771     0.066134  0.133098   \n",
       "1stFlrSF          0.226586      -0.048027   0.052345     0.081453  0.133539   \n",
       "2ndFlrSF          0.200470       0.056976  -0.024761     0.035316  0.082360   \n",
       "LowQualFinSF      0.017805       0.049938   0.000041     0.045060  0.080481   \n",
       "GrLivArea         0.340424       0.016287   0.018123     0.094262  0.175775   \n",
       "BsmtFullBath      0.075569      -0.044844   0.000111     0.016111  0.068723   \n",
       "BsmtHalfBath     -0.035512      -0.002955   0.036532     0.030298  0.019918   \n",
       "FullBath          0.282089      -0.125632   0.039042    -0.015647  0.050077   \n",
       "HalfBath          0.205180      -0.089791  -0.006984     0.063116  0.020118   \n",
       "BedroomAbvGr      0.087683       0.046939  -0.027528     0.049283  0.077418   \n",
       "KitchenAbvGr     -0.040398       0.049430  -0.020419    -0.041493 -0.012348   \n",
       "TotRmsAbvGrd      0.245483       0.000157  -0.011103     0.057621  0.087969   \n",
       "Fireplaces        0.170053      -0.016684   0.002529     0.176190  0.094650   \n",
       "GarageYrBlt       0.222988      -0.304208   0.026540    -0.079250 -0.015421   \n",
       "GarageCars        0.243647      -0.147938   0.029912     0.014585  0.013640   \n",
       "GarageArea        0.270487      -0.111638   0.029237     0.017591  0.061664   \n",
       "WoodDeckSF        0.058422      -0.131463  -0.039286    -0.086993  0.072397   \n",
       "OpenPorchSF       1.000000      -0.105770  -0.005540     0.072468  0.062409   \n",
       "EnclosedPorch    -0.105770       1.000000  -0.036526    -0.083579  0.057521   \n",
       "3SsnPorch        -0.005540      -0.036526   1.000000    -0.033326 -0.008448   \n",
       "ScreenPorch       0.072468      -0.083579  -0.033326     1.000000  0.049940   \n",
       "PoolArea          0.062409       0.057521  -0.008448     0.049940  1.000000   \n",
       "MiscVal          -0.015381       0.023774   0.000959     0.033190  0.030398   \n",
       "\n",
       "                MiscVal  \n",
       "MSSubClass    -0.021341  \n",
       "LotFrontage    0.000487  \n",
       "LotArea        0.040654  \n",
       "OverallQual   -0.029645  \n",
       "OverallCond    0.077500  \n",
       "YearBuilt     -0.033977  \n",
       "YearRemodAdd  -0.001931  \n",
       "MasVnrArea    -0.028995  \n",
       "BsmtFinSF1     0.007552  \n",
       "BsmtFinSF2     0.006252  \n",
       "BsmtUnfSF     -0.018662  \n",
       "TotalBsmtSF   -0.009033  \n",
       "1stFlrSF      -0.014374  \n",
       "2ndFlrSF       0.013641  \n",
       "LowQualFinSF  -0.000107  \n",
       "GrLivArea      0.000811  \n",
       "BsmtFullBath  -0.020880  \n",
       "BsmtHalfBath  -0.006511  \n",
       "FullBath      -0.018933  \n",
       "HalfBath       0.003284  \n",
       "BedroomAbvGr   0.008298  \n",
       "KitchenAbvGr   0.059596  \n",
       "TotRmsAbvGrd   0.025962  \n",
       "Fireplaces     0.005166  \n",
       "GarageYrBlt   -0.031967  \n",
       "GarageCars    -0.048505  \n",
       "GarageArea    -0.028737  \n",
       "WoodDeckSF    -0.009624  \n",
       "OpenPorchSF   -0.015381  \n",
       "EnclosedPorch  0.023774  \n",
       "3SsnPorch      0.000959  \n",
       "ScreenPorch    0.033190  \n",
       "PoolArea       0.030398  \n",
       "MiscVal        1.000000  \n",
       "\n",
       "[34 rows x 34 columns]"
      ]
     },
     "execution_count": 164,
     "metadata": {},
     "output_type": "execute_result"
    }
   ],
   "source": [
    "dcorr = data.iloc[:,:34].corr()\n",
    "dcorr"
   ]
  },
  {
   "cell_type": "code",
   "execution_count": 165,
   "metadata": {},
   "outputs": [
    {
     "data": {
      "image/png": "[encoded data removed]",
      "text/plain": [
       "<Figure size 1080x1080 with 2 Axes>"
      ]
     },
     "metadata": {
      "needs_background": "light"
     },
     "output_type": "display_data"
    }
   ],
   "source": [
    "fig, ax = plt.subplots(figsize=(15,15))\n",
    "sns.heatmap(dcorr, vmin=-1, vmax=1, cmap=\"YlGnBu\", ax=ax)\n",
    "plt.show()"
   ]
  },
  {
   "cell_type": "markdown",
   "metadata": {},
   "source": [
    "Из графика видно, что между собой сильно коррелируют GarageYrBlt и YearBuilt, то есть дата строительства всего комплекса с домом и год постройки гаража. \n",
    "А также 1stFlrSF и TotalBsmtSF: площадь первого этажа и общая подвальная площадь.\n",
    "Видна корреляция между GarageArea и GarageCars: площадью гаража и количеством вмещаемых в гараж автомобилей.\n",
    "и т.д."
   ]
  },
  {
   "cell_type": "markdown",
   "metadata": {},
   "source": [
    "## 5 (0.5)"
   ]
  },
  {
   "cell_type": "markdown",
   "metadata": {},
   "source": [
    "Найдите признаки с максимальным и минимальным **абсолютным** значением коэффициента корреляции Пирсона с предсказываемым значением. Изобразите на графиках зависимость найденных признаков от предсказываемого значения.\n",
    "\n",
    "*Не забудьте указать название графика и обозначить, что изображено по каждой из осей.*"
   ]
  },
  {
   "cell_type": "code",
   "execution_count": 166,
   "metadata": {},
   "outputs": [
    {
     "data": {
      "text/plain": [
       "SalePrice      1.000000\n",
       "OverallQual    0.784687\n",
       "Name: SalePrice, dtype: float64"
      ]
     },
     "execution_count": 166,
     "metadata": {},
     "output_type": "execute_result"
    }
   ],
   "source": [
    "abs(data.corr()['SalePrice']).nlargest(2)"
   ]
  },
  {
   "cell_type": "code",
   "execution_count": 167,
   "metadata": {},
   "outputs": [
    {
     "data": {
      "text/plain": [
       "RoofStyle_Mansard    0.000320\n",
       "Foundation_Wood      0.000868\n",
       "Name: SalePrice, dtype: float64"
      ]
     },
     "execution_count": 167,
     "metadata": {},
     "output_type": "execute_result"
    }
   ],
   "source": [
    "abs(data.corr()['SalePrice']).nsmallest(2)"
   ]
  },
  {
   "cell_type": "code",
   "execution_count": 169,
   "metadata": {},
   "outputs": [
    {
     "data": {
      "image/png": "[encoded data removed]",
      "text/plain": [
       "<Figure size 1296x432 with 2 Axes>"
      ]
     },
     "metadata": {
      "needs_background": "light"
     },
     "output_type": "display_data"
    }
   ],
   "source": [
    "fig, axs = plt.subplots(nrows=1, ncols=2, figsize=(18, 6))\n",
    "\n",
    "ax = axs[0]\n",
    "ax.scatter(data['OverallQual'], data['SalePrice'], s = 5)\n",
    "ax.set_xlabel('Оценка обшего качетсва дома')\n",
    "ax.set_ylabel('Стоимость дома')\n",
    "\n",
    "ax = axs[1]\n",
    "ax.scatter(data['RoofStyle_Mansard'], data['SalePrice'], s = 5)\n",
    "ax.set_xlabel('Мансарда на крыше')\n",
    "ax.set_ylabel('Стоимость дома')\n",
    "\n",
    "fig.suptitle('Графики зависимости стоимости дома от общега качетва дома и есть ли мансарда на крыш')\n",
    "\n",
    "plt.show()"
   ]
  },
  {
   "cell_type": "markdown",
   "metadata": {},
   "source": [
    "## 6 (0.5)"
   ]
  },
  {
   "cell_type": "markdown",
   "metadata": {},
   "source": [
    "Постройте гистограмму распределения предсказываемого значения. Для избавления от разницы в масштабах, а также «смещения» распределения переменной в сторону нормального (что бывает полезно при статистическом анализе), можно прологарифмировать ее (это обратимое преобразование, поэтому целевую переменную легко восстановить). В данном случае воспользуйтесь `numpy.log1p`, чтобы сделать преобразование $y \\to \\ln\\left(1 + y\\right)$. Постройте гистограмму распределения от нового предсказываемого значения. Опишите наблюдения.\n",
    "\n",
    "*В дальнейшем используйте в качестве предсказываемого значения вектор, который получился после логарифмирования.*"
   ]
  },
  {
   "cell_type": "code",
   "execution_count": 170,
   "metadata": {
    "scrolled": false
   },
   "outputs": [
    {
     "data": {
      "image/png": "[encoded data removed]",
      "text/plain": [
       "<Figure size 864x576 with 1 Axes>"
      ]
     },
     "metadata": {
      "needs_background": "light"
     },
     "output_type": "display_data"
    }
   ],
   "source": [
    "plt.figure(figsize=(12,8))\n",
    "plt.hist(data['SalePrice'], histtype='stepfilled', color='steelblue', bins= 70)\n",
    "plt.xlabel('Стоимость дома')\n",
    "plt.ylabel('Количество домов')\n",
    "plt.show()"
   ]
  },
  {
   "cell_type": "code",
   "execution_count": 171,
   "metadata": {
    "scrolled": false
   },
   "outputs": [
    {
     "data": {
      "image/png": "[encoded data removed]",
      "text/plain": [
       "<Figure size 864x576 with 1 Axes>"
      ]
     },
     "metadata": {
      "needs_background": "light"
     },
     "output_type": "display_data"
    }
   ],
   "source": [
    "pred = np.log1p(data['SalePrice'])\n",
    "plt.figure(figsize=(12,8))\n",
    "plt.hist(pred, histtype='stepfilled', color='steelblue', bins= 70)\n",
    "plt.xlabel('Стоимость дома')\n",
    "plt.ylabel('Количество домов')\n",
    "plt.show()"
   ]
  },
  {
   "cell_type": "markdown",
   "metadata": {},
   "source": [
    "График распределения стал похож на нормальный."
   ]
  },
  {
   "cell_type": "markdown",
   "metadata": {},
   "source": [
    "Перейдем непосредственно к построению моделей. Разобьем выборку на обучение и контроль.\n",
    "\n",
    "*Пожалуйста, **не меняйте** значение `random_state` в следующей ячейке.*"
   ]
  },
  {
   "cell_type": "code",
   "execution_count": 175,
   "metadata": {},
   "outputs": [],
   "source": [
    "y = data['SalePrice']\n",
    "X = data.drop('SalePrice', axis=1)"
   ]
  },
  {
   "cell_type": "code",
   "execution_count": 176,
   "metadata": {},
   "outputs": [],
   "source": [
    "X_train, X_val, y_train, y_val = train_test_split(X, y, random_state=17032019)"
   ]
  },
  {
   "cell_type": "code",
   "execution_count": 177,
   "metadata": {},
   "outputs": [
    {
     "data": {
      "text/plain": [
       "((1011, 232), (338, 232), (1011,), (338,))"
      ]
     },
     "execution_count": 177,
     "metadata": {},
     "output_type": "execute_result"
    }
   ],
   "source": [
    "X_train.shape, X_val.shape, y_train.shape, y_val.shape"
   ]
  },
  {
   "cell_type": "markdown",
   "metadata": {},
   "source": [
    "## 7 (2)"
   ]
  },
  {
   "cell_type": "markdown",
   "metadata": {},
   "source": [
    "Примените к данным следующие алгоритмы:\n",
    "\n",
    "- kNN\n",
    "- линейная регрессия\n",
    "- Lasso\n",
    "- Ridge\n",
    "\n",
    "Для каждого из методов подберите гиперпараметры с помощью кросс-валидации. Обучите алгоритмы с лучшими гиперпараметрами на обучающей выборке и оцените качество по метрике **Root** Mean Squared Error. Какой из методов показывает себя лучше?"
   ]
  },
  {
   "cell_type": "code",
   "execution_count": null,
   "metadata": {
    "collapsed": true
   },
   "outputs": [],
   "source": [
    "# your code here"
   ]
  },
  {
   "cell_type": "markdown",
   "metadata": {},
   "source": [
    "## 8 (1)"
   ]
  },
  {
   "cell_type": "markdown",
   "metadata": {},
   "source": [
    "Постройте гистограммы значений весов для линейной регрессии, Lasso и Ridge. Опишите наблюдения. В чем различия между полученными наборами весов и почему?"
   ]
  },
  {
   "cell_type": "code",
   "execution_count": null,
   "metadata": {
    "collapsed": true
   },
   "outputs": [],
   "source": [
    "# your code here"
   ]
  },
  {
   "cell_type": "markdown",
   "metadata": {},
   "source": [
    "## 9 (0.5)"
   ]
  },
  {
   "cell_type": "markdown",
   "metadata": {},
   "source": [
    "Добейтесь того, чтобы в заданиях выше ваш лучший алгоритм давал качество не больше 0.125 на тестовых данных по метрике RMSE (если вы дошли до этого задания, а качество выше уже удовлетворяет этому условию, вы автоматически получите за него полный балл)."
   ]
  },
  {
   "cell_type": "markdown",
   "metadata": {},
   "source": [
    "## 10* (0.5)"
   ]
  },
  {
   "cell_type": "markdown",
   "metadata": {},
   "source": [
    "Добейтесь того, чтобы в заданиях выше ваш лучший алгоритм давал качество не больше 0.121 на тестовых данных по метрике RMSE. Для этого вы можете использовать самые разные методы, какие захотите - отбор признаков, генерация новых, разные способы предобработки данных. Единственное ограничение - не использовать никакие алгоритмы регрессии, кроме kNN, линейной регрессии, Lasso и Ridge."
   ]
  },
  {
   "cell_type": "code",
   "execution_count": null,
   "metadata": {
    "collapsed": true
   },
   "outputs": [],
   "source": [
    "# your code here"
   ]
  },
  {
   "cell_type": "markdown",
   "metadata": {},
   "source": [
    "# Теория"
   ]
  },
  {
   "cell_type": "markdown",
   "metadata": {},
   "source": [
    "За данную часть можно получить бонусные баллы. Решения необходимо оформить в этом же файле в ячейках типа Markdown, пользуясь $\\LaTeX$ для записи математических формул."
   ]
  },
  {
   "cell_type": "markdown",
   "metadata": {},
   "source": [
    "## 1* (0.5)"
   ]
  },
  {
   "cell_type": "markdown",
   "metadata": {},
   "source": [
    "Найдите константу $C$, решающую следующую задачу ($0 < \\tau < 1$ фиксировано):\n",
    "\n",
    "$$\n",
    "\\sum\\limits_{i=1}^\\ell\\rho_\\tau\\left(y_i - C\\right) \\to \\min_C,\n",
    "$$\n",
    "\n",
    "где\n",
    "\n",
    "$$\n",
    "\\rho_\\tau(z) =\n",
    "\\begin{cases}\n",
    "\\tau z, & z > 0\\\\\n",
    "(\\tau - 1)z, & z \\leq 0\n",
    "\\end{cases}\n",
    "$$"
   ]
  },
  {
   "cell_type": "markdown",
   "metadata": {},
   "source": [
    "*(your solution here)*"
   ]
  }
 ],
 "metadata": {
  "kernelspec": {
   "display_name": "Python 3",
   "language": "python",
   "name": "python3"
  },
  "language_info": {
   "codemirror_mode": {
    "name": "ipython",
    "version": 3
   },
   "file_extension": ".py",
   "mimetype": "text/x-python",
   "name": "python",
   "nbconvert_exporter": "python",
   "pygments_lexer": "ipython3",
   "version": "3.7.6"
  }
 },
 "nbformat": 4,
 "nbformat_minor": 2
}
